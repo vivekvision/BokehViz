{
 "cells": [
  {
   "cell_type": "code",
   "execution_count": 1,
   "id": "739544be",
   "metadata": {},
   "outputs": [
    {
     "data": {
      "text/html": [
       "\n",
       "    <div class=\"bk-root\">\n",
       "        <a href=\"https://bokeh.org\" target=\"_blank\" class=\"bk-logo bk-logo-small bk-logo-notebook\"></a>\n",
       "        <span id=\"1002\">Loading BokehJS ...</span>\n",
       "    </div>"
      ]
     },
     "metadata": {},
     "output_type": "display_data"
    },
    {
     "data": {
      "application/javascript": [
       "\n",
       "(function(root) {\n",
       "  function now() {\n",
       "    return new Date();\n",
       "  }\n",
       "\n",
       "  const force = true;\n",
       "\n",
       "  if (typeof root._bokeh_onload_callbacks === \"undefined\" || force === true) {\n",
       "    root._bokeh_onload_callbacks = [];\n",
       "    root._bokeh_is_loading = undefined;\n",
       "  }\n",
       "\n",
       "  const JS_MIME_TYPE = 'application/javascript';\n",
       "  const HTML_MIME_TYPE = 'text/html';\n",
       "  const EXEC_MIME_TYPE = 'application/vnd.bokehjs_exec.v0+json';\n",
       "  const CLASS_NAME = 'output_bokeh rendered_html';\n",
       "\n",
       "  /**\n",
       "   * Render data to the DOM node\n",
       "   */\n",
       "  function render(props, node) {\n",
       "    const script = document.createElement(\"script\");\n",
       "    node.appendChild(script);\n",
       "  }\n",
       "\n",
       "  /**\n",
       "   * Handle when an output is cleared or removed\n",
       "   */\n",
       "  function handleClearOutput(event, handle) {\n",
       "    const cell = handle.cell;\n",
       "\n",
       "    const id = cell.output_area._bokeh_element_id;\n",
       "    const server_id = cell.output_area._bokeh_server_id;\n",
       "    // Clean up Bokeh references\n",
       "    if (id != null && id in Bokeh.index) {\n",
       "      Bokeh.index[id].model.document.clear();\n",
       "      delete Bokeh.index[id];\n",
       "    }\n",
       "\n",
       "    if (server_id !== undefined) {\n",
       "      // Clean up Bokeh references\n",
       "      const cmd_clean = \"from bokeh.io.state import curstate; print(curstate().uuid_to_server['\" + server_id + \"'].get_sessions()[0].document.roots[0]._id)\";\n",
       "      cell.notebook.kernel.execute(cmd_clean, {\n",
       "        iopub: {\n",
       "          output: function(msg) {\n",
       "            const id = msg.content.text.trim();\n",
       "            if (id in Bokeh.index) {\n",
       "              Bokeh.index[id].model.document.clear();\n",
       "              delete Bokeh.index[id];\n",
       "            }\n",
       "          }\n",
       "        }\n",
       "      });\n",
       "      // Destroy server and session\n",
       "      const cmd_destroy = \"import bokeh.io.notebook as ion; ion.destroy_server('\" + server_id + \"')\";\n",
       "      cell.notebook.kernel.execute(cmd_destroy);\n",
       "    }\n",
       "  }\n",
       "\n",
       "  /**\n",
       "   * Handle when a new output is added\n",
       "   */\n",
       "  function handleAddOutput(event, handle) {\n",
       "    const output_area = handle.output_area;\n",
       "    const output = handle.output;\n",
       "\n",
       "    // limit handleAddOutput to display_data with EXEC_MIME_TYPE content only\n",
       "    if ((output.output_type != \"display_data\") || (!Object.prototype.hasOwnProperty.call(output.data, EXEC_MIME_TYPE))) {\n",
       "      return\n",
       "    }\n",
       "\n",
       "    const toinsert = output_area.element.find(\".\" + CLASS_NAME.split(' ')[0]);\n",
       "\n",
       "    if (output.metadata[EXEC_MIME_TYPE][\"id\"] !== undefined) {\n",
       "      toinsert[toinsert.length - 1].firstChild.textContent = output.data[JS_MIME_TYPE];\n",
       "      // store reference to embed id on output_area\n",
       "      output_area._bokeh_element_id = output.metadata[EXEC_MIME_TYPE][\"id\"];\n",
       "    }\n",
       "    if (output.metadata[EXEC_MIME_TYPE][\"server_id\"] !== undefined) {\n",
       "      const bk_div = document.createElement(\"div\");\n",
       "      bk_div.innerHTML = output.data[HTML_MIME_TYPE];\n",
       "      const script_attrs = bk_div.children[0].attributes;\n",
       "      for (let i = 0; i < script_attrs.length; i++) {\n",
       "        toinsert[toinsert.length - 1].firstChild.setAttribute(script_attrs[i].name, script_attrs[i].value);\n",
       "        toinsert[toinsert.length - 1].firstChild.textContent = bk_div.children[0].textContent\n",
       "      }\n",
       "      // store reference to server id on output_area\n",
       "      output_area._bokeh_server_id = output.metadata[EXEC_MIME_TYPE][\"server_id\"];\n",
       "    }\n",
       "  }\n",
       "\n",
       "  function register_renderer(events, OutputArea) {\n",
       "\n",
       "    function append_mime(data, metadata, element) {\n",
       "      // create a DOM node to render to\n",
       "      const toinsert = this.create_output_subarea(\n",
       "        metadata,\n",
       "        CLASS_NAME,\n",
       "        EXEC_MIME_TYPE\n",
       "      );\n",
       "      this.keyboard_manager.register_events(toinsert);\n",
       "      // Render to node\n",
       "      const props = {data: data, metadata: metadata[EXEC_MIME_TYPE]};\n",
       "      render(props, toinsert[toinsert.length - 1]);\n",
       "      element.append(toinsert);\n",
       "      return toinsert\n",
       "    }\n",
       "\n",
       "    /* Handle when an output is cleared or removed */\n",
       "    events.on('clear_output.CodeCell', handleClearOutput);\n",
       "    events.on('delete.Cell', handleClearOutput);\n",
       "\n",
       "    /* Handle when a new output is added */\n",
       "    events.on('output_added.OutputArea', handleAddOutput);\n",
       "\n",
       "    /**\n",
       "     * Register the mime type and append_mime function with output_area\n",
       "     */\n",
       "    OutputArea.prototype.register_mime_type(EXEC_MIME_TYPE, append_mime, {\n",
       "      /* Is output safe? */\n",
       "      safe: true,\n",
       "      /* Index of renderer in `output_area.display_order` */\n",
       "      index: 0\n",
       "    });\n",
       "  }\n",
       "\n",
       "  // register the mime type if in Jupyter Notebook environment and previously unregistered\n",
       "  if (root.Jupyter !== undefined) {\n",
       "    const events = require('base/js/events');\n",
       "    const OutputArea = require('notebook/js/outputarea').OutputArea;\n",
       "\n",
       "    if (OutputArea.prototype.mime_types().indexOf(EXEC_MIME_TYPE) == -1) {\n",
       "      register_renderer(events, OutputArea);\n",
       "    }\n",
       "  }\n",
       "\n",
       "  \n",
       "  if (typeof (root._bokeh_timeout) === \"undefined\" || force === true) {\n",
       "    root._bokeh_timeout = Date.now() + 5000;\n",
       "    root._bokeh_failed_load = false;\n",
       "  }\n",
       "\n",
       "  const NB_LOAD_WARNING = {'data': {'text/html':\n",
       "     \"<div style='background-color: #fdd'>\\n\"+\n",
       "     \"<p>\\n\"+\n",
       "     \"BokehJS does not appear to have successfully loaded. If loading BokehJS from CDN, this \\n\"+\n",
       "     \"may be due to a slow or bad network connection. Possible fixes:\\n\"+\n",
       "     \"</p>\\n\"+\n",
       "     \"<ul>\\n\"+\n",
       "     \"<li>re-rerun `output_notebook()` to attempt to load from CDN again, or</li>\\n\"+\n",
       "     \"<li>use INLINE resources instead, as so:</li>\\n\"+\n",
       "     \"</ul>\\n\"+\n",
       "     \"<code>\\n\"+\n",
       "     \"from bokeh.resources import INLINE\\n\"+\n",
       "     \"output_notebook(resources=INLINE)\\n\"+\n",
       "     \"</code>\\n\"+\n",
       "     \"</div>\"}};\n",
       "\n",
       "  function display_loaded() {\n",
       "    const el = document.getElementById(\"1002\");\n",
       "    if (el != null) {\n",
       "      el.textContent = \"BokehJS is loading...\";\n",
       "    }\n",
       "    if (root.Bokeh !== undefined) {\n",
       "      if (el != null) {\n",
       "        el.textContent = \"BokehJS \" + root.Bokeh.version + \" successfully loaded.\";\n",
       "      }\n",
       "    } else if (Date.now() < root._bokeh_timeout) {\n",
       "      setTimeout(display_loaded, 100)\n",
       "    }\n",
       "  }\n",
       "\n",
       "\n",
       "  function run_callbacks() {\n",
       "    try {\n",
       "      root._bokeh_onload_callbacks.forEach(function(callback) {\n",
       "        if (callback != null)\n",
       "          callback();\n",
       "      });\n",
       "    } finally {\n",
       "      delete root._bokeh_onload_callbacks\n",
       "    }\n",
       "    console.debug(\"Bokeh: all callbacks have finished\");\n",
       "  }\n",
       "\n",
       "  function load_libs(css_urls, js_urls, callback) {\n",
       "    if (css_urls == null) css_urls = [];\n",
       "    if (js_urls == null) js_urls = [];\n",
       "\n",
       "    root._bokeh_onload_callbacks.push(callback);\n",
       "    if (root._bokeh_is_loading > 0) {\n",
       "      console.debug(\"Bokeh: BokehJS is being loaded, scheduling callback at\", now());\n",
       "      return null;\n",
       "    }\n",
       "    if (js_urls == null || js_urls.length === 0) {\n",
       "      run_callbacks();\n",
       "      return null;\n",
       "    }\n",
       "    console.debug(\"Bokeh: BokehJS not loaded, scheduling load and callback at\", now());\n",
       "    root._bokeh_is_loading = css_urls.length + js_urls.length;\n",
       "\n",
       "    function on_load() {\n",
       "      root._bokeh_is_loading--;\n",
       "      if (root._bokeh_is_loading === 0) {\n",
       "        console.debug(\"Bokeh: all BokehJS libraries/stylesheets loaded\");\n",
       "        run_callbacks()\n",
       "      }\n",
       "    }\n",
       "\n",
       "    function on_error(url) {\n",
       "      console.error(\"failed to load \" + url);\n",
       "    }\n",
       "\n",
       "    for (let i = 0; i < css_urls.length; i++) {\n",
       "      const url = css_urls[i];\n",
       "      const element = document.createElement(\"link\");\n",
       "      element.onload = on_load;\n",
       "      element.onerror = on_error.bind(null, url);\n",
       "      element.rel = \"stylesheet\";\n",
       "      element.type = \"text/css\";\n",
       "      element.href = url;\n",
       "      console.debug(\"Bokeh: injecting link tag for BokehJS stylesheet: \", url);\n",
       "      document.body.appendChild(element);\n",
       "    }\n",
       "\n",
       "    for (let i = 0; i < js_urls.length; i++) {\n",
       "      const url = js_urls[i];\n",
       "      const element = document.createElement('script');\n",
       "      element.onload = on_load;\n",
       "      element.onerror = on_error.bind(null, url);\n",
       "      element.async = false;\n",
       "      element.src = url;\n",
       "      console.debug(\"Bokeh: injecting script tag for BokehJS library: \", url);\n",
       "      document.head.appendChild(element);\n",
       "    }\n",
       "  };\n",
       "\n",
       "  function inject_raw_css(css) {\n",
       "    const element = document.createElement(\"style\");\n",
       "    element.appendChild(document.createTextNode(css));\n",
       "    document.body.appendChild(element);\n",
       "  }\n",
       "\n",
       "  \n",
       "  const js_urls = [\"https://cdn.bokeh.org/bokeh/release/bokeh-2.4.1.min.js\", \"https://cdn.bokeh.org/bokeh/release/bokeh-gl-2.4.1.min.js\", \"https://cdn.bokeh.org/bokeh/release/bokeh-widgets-2.4.1.min.js\", \"https://cdn.bokeh.org/bokeh/release/bokeh-tables-2.4.1.min.js\", \"https://cdn.bokeh.org/bokeh/release/bokeh-mathjax-2.4.1.min.js\"];\n",
       "  const css_urls = [];\n",
       "  \n",
       "\n",
       "  const inline_js = [\n",
       "    function(Bokeh) {\n",
       "      Bokeh.set_log_level(\"info\");\n",
       "    },\n",
       "    function(Bokeh) {\n",
       "    \n",
       "    \n",
       "    }\n",
       "  ];\n",
       "\n",
       "  function run_inline_js() {\n",
       "    \n",
       "    if (root.Bokeh !== undefined || force === true) {\n",
       "      \n",
       "    for (let i = 0; i < inline_js.length; i++) {\n",
       "      inline_js[i].call(root, root.Bokeh);\n",
       "    }\n",
       "    if (force === true) {\n",
       "        display_loaded();\n",
       "      }} else if (Date.now() < root._bokeh_timeout) {\n",
       "      setTimeout(run_inline_js, 100);\n",
       "    } else if (!root._bokeh_failed_load) {\n",
       "      console.log(\"Bokeh: BokehJS failed to load within specified timeout.\");\n",
       "      root._bokeh_failed_load = true;\n",
       "    } else if (force !== true) {\n",
       "      const cell = $(document.getElementById(\"1002\")).parents('.cell').data().cell;\n",
       "      cell.output_area.append_execute_result(NB_LOAD_WARNING)\n",
       "    }\n",
       "\n",
       "  }\n",
       "\n",
       "  if (root._bokeh_is_loading === 0) {\n",
       "    console.debug(\"Bokeh: BokehJS loaded, going straight to plotting\");\n",
       "    run_inline_js();\n",
       "  } else {\n",
       "    load_libs(css_urls, js_urls, function() {\n",
       "      console.debug(\"Bokeh: BokehJS plotting callback run at\", now());\n",
       "      run_inline_js();\n",
       "    });\n",
       "  }\n",
       "}(window));"
      ],
      "application/vnd.bokehjs_load.v0+json": "\n(function(root) {\n  function now() {\n    return new Date();\n  }\n\n  const force = true;\n\n  if (typeof root._bokeh_onload_callbacks === \"undefined\" || force === true) {\n    root._bokeh_onload_callbacks = [];\n    root._bokeh_is_loading = undefined;\n  }\n\n  \n\n  \n  if (typeof (root._bokeh_timeout) === \"undefined\" || force === true) {\n    root._bokeh_timeout = Date.now() + 5000;\n    root._bokeh_failed_load = false;\n  }\n\n  const NB_LOAD_WARNING = {'data': {'text/html':\n     \"<div style='background-color: #fdd'>\\n\"+\n     \"<p>\\n\"+\n     \"BokehJS does not appear to have successfully loaded. If loading BokehJS from CDN, this \\n\"+\n     \"may be due to a slow or bad network connection. Possible fixes:\\n\"+\n     \"</p>\\n\"+\n     \"<ul>\\n\"+\n     \"<li>re-rerun `output_notebook()` to attempt to load from CDN again, or</li>\\n\"+\n     \"<li>use INLINE resources instead, as so:</li>\\n\"+\n     \"</ul>\\n\"+\n     \"<code>\\n\"+\n     \"from bokeh.resources import INLINE\\n\"+\n     \"output_notebook(resources=INLINE)\\n\"+\n     \"</code>\\n\"+\n     \"</div>\"}};\n\n  function display_loaded() {\n    const el = document.getElementById(\"1002\");\n    if (el != null) {\n      el.textContent = \"BokehJS is loading...\";\n    }\n    if (root.Bokeh !== undefined) {\n      if (el != null) {\n        el.textContent = \"BokehJS \" + root.Bokeh.version + \" successfully loaded.\";\n      }\n    } else if (Date.now() < root._bokeh_timeout) {\n      setTimeout(display_loaded, 100)\n    }\n  }\n\n\n  function run_callbacks() {\n    try {\n      root._bokeh_onload_callbacks.forEach(function(callback) {\n        if (callback != null)\n          callback();\n      });\n    } finally {\n      delete root._bokeh_onload_callbacks\n    }\n    console.debug(\"Bokeh: all callbacks have finished\");\n  }\n\n  function load_libs(css_urls, js_urls, callback) {\n    if (css_urls == null) css_urls = [];\n    if (js_urls == null) js_urls = [];\n\n    root._bokeh_onload_callbacks.push(callback);\n    if (root._bokeh_is_loading > 0) {\n      console.debug(\"Bokeh: BokehJS is being loaded, scheduling callback at\", now());\n      return null;\n    }\n    if (js_urls == null || js_urls.length === 0) {\n      run_callbacks();\n      return null;\n    }\n    console.debug(\"Bokeh: BokehJS not loaded, scheduling load and callback at\", now());\n    root._bokeh_is_loading = css_urls.length + js_urls.length;\n\n    function on_load() {\n      root._bokeh_is_loading--;\n      if (root._bokeh_is_loading === 0) {\n        console.debug(\"Bokeh: all BokehJS libraries/stylesheets loaded\");\n        run_callbacks()\n      }\n    }\n\n    function on_error(url) {\n      console.error(\"failed to load \" + url);\n    }\n\n    for (let i = 0; i < css_urls.length; i++) {\n      const url = css_urls[i];\n      const element = document.createElement(\"link\");\n      element.onload = on_load;\n      element.onerror = on_error.bind(null, url);\n      element.rel = \"stylesheet\";\n      element.type = \"text/css\";\n      element.href = url;\n      console.debug(\"Bokeh: injecting link tag for BokehJS stylesheet: \", url);\n      document.body.appendChild(element);\n    }\n\n    for (let i = 0; i < js_urls.length; i++) {\n      const url = js_urls[i];\n      const element = document.createElement('script');\n      element.onload = on_load;\n      element.onerror = on_error.bind(null, url);\n      element.async = false;\n      element.src = url;\n      console.debug(\"Bokeh: injecting script tag for BokehJS library: \", url);\n      document.head.appendChild(element);\n    }\n  };\n\n  function inject_raw_css(css) {\n    const element = document.createElement(\"style\");\n    element.appendChild(document.createTextNode(css));\n    document.body.appendChild(element);\n  }\n\n  \n  const js_urls = [\"https://cdn.bokeh.org/bokeh/release/bokeh-2.4.1.min.js\", \"https://cdn.bokeh.org/bokeh/release/bokeh-gl-2.4.1.min.js\", \"https://cdn.bokeh.org/bokeh/release/bokeh-widgets-2.4.1.min.js\", \"https://cdn.bokeh.org/bokeh/release/bokeh-tables-2.4.1.min.js\", \"https://cdn.bokeh.org/bokeh/release/bokeh-mathjax-2.4.1.min.js\"];\n  const css_urls = [];\n  \n\n  const inline_js = [\n    function(Bokeh) {\n      Bokeh.set_log_level(\"info\");\n    },\n    function(Bokeh) {\n    \n    \n    }\n  ];\n\n  function run_inline_js() {\n    \n    if (root.Bokeh !== undefined || force === true) {\n      \n    for (let i = 0; i < inline_js.length; i++) {\n      inline_js[i].call(root, root.Bokeh);\n    }\n    if (force === true) {\n        display_loaded();\n      }} else if (Date.now() < root._bokeh_timeout) {\n      setTimeout(run_inline_js, 100);\n    } else if (!root._bokeh_failed_load) {\n      console.log(\"Bokeh: BokehJS failed to load within specified timeout.\");\n      root._bokeh_failed_load = true;\n    } else if (force !== true) {\n      const cell = $(document.getElementById(\"1002\")).parents('.cell').data().cell;\n      cell.output_area.append_execute_result(NB_LOAD_WARNING)\n    }\n\n  }\n\n  if (root._bokeh_is_loading === 0) {\n    console.debug(\"Bokeh: BokehJS loaded, going straight to plotting\");\n    run_inline_js();\n  } else {\n    load_libs(css_urls, js_urls, function() {\n      console.debug(\"Bokeh: BokehJS plotting callback run at\", now());\n      run_inline_js();\n    });\n  }\n}(window));"
     },
     "metadata": {},
     "output_type": "display_data"
    }
   ],
   "source": [
    "import numpy as np # linear algebra\n",
    "import pandas as pd # data processing, CSV file I/O (e.g. pd.read_csv)\n",
    "import os\n",
    "# bokeh packages\n",
    "from bokeh.io import output_file,show,output_notebook,push_notebook\n",
    "from bokeh.plotting import figure\n",
    "from bokeh.models import ColumnDataSource,HoverTool,CategoricalColorMapper\n",
    "from bokeh.layouts import row,column,gridplot\n",
    "from bokeh.models.widgets import Tabs,Panel\n",
    "output_notebook()"
   ]
  },
  {
   "cell_type": "markdown",
   "id": "40266183",
   "metadata": {},
   "source": [
    "What is Bokeh?\n",
    "* Interactive visualization, controls, and tools¶\n",
    "* Versatile and high-level graphics\n",
    "* High-level statistical charts\n",
    "* Streaming, dynamic, large data\n",
    "* For the browser, with or without a server, even without javascript "
   ]
  },
  {
   "cell_type": "markdown",
   "id": "826e051a",
   "metadata": {},
   "source": [
    "Bokeh uses the term glyph frequently. What are Glyphs?\n",
    "1. Visual shapes\n",
    "circles, squares, triangles\n",
    "rectangles, lines, wedges\n",
    "2. With properties a!ached to data\n",
    "coordinates (x,y)\n",
    "size, color, transparency\n",
    "Glyph properties\n",
    "● Lists, arrays, sequences of values\n",
    "● Single fixed values¶\n"
   ]
  },
  {
   "cell_type": "code",
   "execution_count": 2,
   "id": "3088f4de",
   "metadata": {},
   "outputs": [
    {
     "data": {
      "text/html": [
       "\n",
       "\n",
       "\n",
       "\n",
       "\n",
       "\n",
       "  <div class=\"bk-root\" id=\"140a622c-4461-41ed-8ee6-0c6989d838e5\" data-root-id=\"1003\"></div>\n"
      ]
     },
     "metadata": {},
     "output_type": "display_data"
    },
    {
     "data": {
      "application/javascript": [
       "(function(root) {\n",
       "  function embed_document(root) {\n",
       "    \n",
       "  const docs_json = {\"c8928605-c9eb-4877-9922-ed87573fdc24\":{\"defs\":[],\"roots\":{\"references\":[{\"attributes\":{\"below\":[{\"id\":\"1012\"}],\"center\":[{\"id\":\"1015\"},{\"id\":\"1019\"}],\"left\":[{\"id\":\"1016\"}],\"renderers\":[{\"id\":\"1030\"}],\"title\":{\"id\":\"1032\"},\"toolbar\":{\"id\":\"1023\"},\"width\":400,\"x_range\":{\"id\":\"1004\"},\"x_scale\":{\"id\":\"1008\"},\"y_range\":{\"id\":\"1006\"},\"y_scale\":{\"id\":\"1010\"}},\"id\":\"1003\",\"subtype\":\"Figure\",\"type\":\"Plot\"},{\"attributes\":{\"coordinates\":null,\"group\":null},\"id\":\"1032\",\"type\":\"Title\"},{\"attributes\":{\"coordinates\":null,\"formatter\":{\"id\":\"1038\"},\"group\":null,\"major_label_policy\":{\"id\":\"1039\"},\"ticker\":{\"id\":\"1013\"}},\"id\":\"1012\",\"type\":\"LinearAxis\"},{\"attributes\":{},\"id\":\"1008\",\"type\":\"LinearScale\"},{\"attributes\":{},\"id\":\"1004\",\"type\":\"DataRange1d\"},{\"attributes\":{},\"id\":\"1020\",\"type\":\"PanTool\"},{\"attributes\":{\"overlay\":{\"id\":\"1022\"}},\"id\":\"1021\",\"type\":\"BoxZoomTool\"},{\"attributes\":{\"data\":{\"x\":[1,2,3,4,5],\"y\":[8,6,5,2,3]},\"selected\":{\"id\":\"1041\"},\"selection_policy\":{\"id\":\"1040\"}},\"id\":\"1026\",\"type\":\"ColumnDataSource\"},{\"attributes\":{},\"id\":\"1017\",\"type\":\"BasicTicker\"},{\"attributes\":{},\"id\":\"1035\",\"type\":\"BasicTickFormatter\"},{\"attributes\":{\"axis\":{\"id\":\"1016\"},\"coordinates\":null,\"dimension\":1,\"group\":null,\"ticker\":null},\"id\":\"1019\",\"type\":\"Grid\"},{\"attributes\":{\"bottom_units\":\"screen\",\"coordinates\":null,\"fill_alpha\":0.5,\"fill_color\":\"lightgrey\",\"group\":null,\"left_units\":\"screen\",\"level\":\"overlay\",\"line_alpha\":1.0,\"line_color\":\"black\",\"line_dash\":[4,4],\"line_width\":2,\"right_units\":\"screen\",\"syncable\":false,\"top_units\":\"screen\"},\"id\":\"1022\",\"type\":\"BoxAnnotation\"},{\"attributes\":{},\"id\":\"1036\",\"type\":\"AllLabels\"},{\"attributes\":{\"source\":{\"id\":\"1026\"}},\"id\":\"1031\",\"type\":\"CDSView\"},{\"attributes\":{},\"id\":\"1038\",\"type\":\"BasicTickFormatter\"},{\"attributes\":{},\"id\":\"1039\",\"type\":\"AllLabels\"},{\"attributes\":{\"coordinates\":null,\"formatter\":{\"id\":\"1035\"},\"group\":null,\"major_label_policy\":{\"id\":\"1036\"},\"ticker\":{\"id\":\"1017\"}},\"id\":\"1016\",\"type\":\"LinearAxis\"},{\"attributes\":{},\"id\":\"1013\",\"type\":\"BasicTicker\"},{\"attributes\":{\"axis\":{\"id\":\"1012\"},\"coordinates\":null,\"group\":null,\"ticker\":null},\"id\":\"1015\",\"type\":\"Grid\"},{\"attributes\":{},\"id\":\"1010\",\"type\":\"LinearScale\"},{\"attributes\":{\"tools\":[{\"id\":\"1020\"},{\"id\":\"1021\"}]},\"id\":\"1023\",\"type\":\"Toolbar\"},{\"attributes\":{},\"id\":\"1040\",\"type\":\"UnionRenderers\"},{\"attributes\":{\"fill_color\":{\"value\":\"#1f77b4\"},\"line_color\":{\"value\":\"#1f77b4\"},\"x\":{\"field\":\"x\"},\"y\":{\"field\":\"y\"}},\"id\":\"1027\",\"type\":\"Circle\"},{\"attributes\":{},\"id\":\"1041\",\"type\":\"Selection\"},{\"attributes\":{\"fill_alpha\":{\"value\":0.2},\"fill_color\":{\"value\":\"#1f77b4\"},\"hatch_alpha\":{\"value\":0.2},\"line_alpha\":{\"value\":0.2},\"line_color\":{\"value\":\"#1f77b4\"},\"x\":{\"field\":\"x\"},\"y\":{\"field\":\"y\"}},\"id\":\"1029\",\"type\":\"Circle\"},{\"attributes\":{\"fill_alpha\":{\"value\":0.1},\"fill_color\":{\"value\":\"#1f77b4\"},\"hatch_alpha\":{\"value\":0.1},\"line_alpha\":{\"value\":0.1},\"line_color\":{\"value\":\"#1f77b4\"},\"x\":{\"field\":\"x\"},\"y\":{\"field\":\"y\"}},\"id\":\"1028\",\"type\":\"Circle\"},{\"attributes\":{},\"id\":\"1006\",\"type\":\"DataRange1d\"},{\"attributes\":{\"coordinates\":null,\"data_source\":{\"id\":\"1026\"},\"glyph\":{\"id\":\"1027\"},\"group\":null,\"hover_glyph\":null,\"muted_glyph\":{\"id\":\"1029\"},\"nonselection_glyph\":{\"id\":\"1028\"},\"view\":{\"id\":\"1031\"}},\"id\":\"1030\",\"type\":\"GlyphRenderer\"}],\"root_ids\":[\"1003\"]},\"title\":\"Bokeh Application\",\"version\":\"2.4.1\"}};\n",
       "  const render_items = [{\"docid\":\"c8928605-c9eb-4877-9922-ed87573fdc24\",\"root_ids\":[\"1003\"],\"roots\":{\"1003\":\"140a622c-4461-41ed-8ee6-0c6989d838e5\"}}];\n",
       "  root.Bokeh.embed.embed_items_notebook(docs_json, render_items);\n",
       "\n",
       "  }\n",
       "  if (root.Bokeh !== undefined) {\n",
       "    embed_document(root);\n",
       "  } else {\n",
       "    let attempts = 0;\n",
       "    const timer = setInterval(function(root) {\n",
       "      if (root.Bokeh !== undefined) {\n",
       "        clearInterval(timer);\n",
       "        embed_document(root);\n",
       "      } else {\n",
       "        attempts++;\n",
       "        if (attempts > 100) {\n",
       "          clearInterval(timer);\n",
       "          console.log(\"Bokeh: ERROR: Unable to run BokehJS code because BokehJS library is missing\");\n",
       "        }\n",
       "      }\n",
       "    }, 10, root)\n",
       "  }\n",
       "})(window);"
      ],
      "application/vnd.bokehjs_exec.v0+json": ""
     },
     "metadata": {
      "application/vnd.bokehjs_exec.v0+json": {
       "id": "1003"
      }
     },
     "output_type": "display_data"
    }
   ],
   "source": [
    "from bokeh.io import output_file, show\n",
    "from bokeh.plotting import figure\n",
    "\n",
    "plot = figure(plot_width=400, tools='pan,box_zoom')\n",
    "plot.circle([1,2,3,4,5], [8,6,5,2,3])\n",
    "\n",
    "show(plot)"
   ]
  },
  {
   "cell_type": "code",
   "execution_count": 3,
   "id": "ab2f0c64",
   "metadata": {},
   "outputs": [
    {
     "data": {
      "text/html": [
       "\n",
       "\n",
       "\n",
       "\n",
       "\n",
       "\n",
       "  <div class=\"bk-root\" id=\"03e80409-56db-4c1a-8669-87441975b894\" data-root-id=\"1098\"></div>\n"
      ]
     },
     "metadata": {},
     "output_type": "display_data"
    },
    {
     "data": {
      "application/javascript": [
       "(function(root) {\n",
       "  function embed_document(root) {\n",
       "    \n",
       "  const docs_json = {\"950afb60-8398-424b-adba-7afacb9cc7de\":{\"defs\":[],\"roots\":{\"references\":[{\"attributes\":{\"below\":[{\"id\":\"1107\"}],\"center\":[{\"id\":\"1110\"},{\"id\":\"1114\"}],\"left\":[{\"id\":\"1111\"}],\"renderers\":[{\"id\":\"1133\"}],\"title\":{\"id\":\"1146\"},\"toolbar\":{\"id\":\"1122\"},\"x_range\":{\"id\":\"1099\"},\"x_scale\":{\"id\":\"1103\"},\"y_range\":{\"id\":\"1101\"},\"y_scale\":{\"id\":\"1105\"}},\"id\":\"1098\",\"subtype\":\"Figure\",\"type\":\"Plot\"},{\"attributes\":{\"fill_alpha\":{\"value\":0.1},\"fill_color\":{\"value\":\"#1f77b4\"},\"hatch_alpha\":{\"value\":0.1},\"line_alpha\":{\"value\":0.1},\"line_color\":{\"value\":\"#1f77b4\"},\"size\":{\"field\":\"size\"},\"x\":{\"value\":10},\"y\":{\"field\":\"y\"}},\"id\":\"1131\",\"type\":\"Circle\"},{\"attributes\":{\"data\":{\"size\":[10,20,30,40],\"y\":[2,5,8,12]},\"selected\":{\"id\":\"1155\"},\"selection_policy\":{\"id\":\"1154\"}},\"id\":\"1129\",\"type\":\"ColumnDataSource\"},{\"attributes\":{},\"id\":\"1120\",\"type\":\"HelpTool\"},{\"attributes\":{},\"id\":\"1105\",\"type\":\"LinearScale\"},{\"attributes\":{\"coordinates\":null,\"formatter\":{\"id\":\"1149\"},\"group\":null,\"major_label_policy\":{\"id\":\"1150\"},\"ticker\":{\"id\":\"1112\"}},\"id\":\"1111\",\"type\":\"LinearAxis\"},{\"attributes\":{\"coordinates\":null,\"formatter\":{\"id\":\"1152\"},\"group\":null,\"major_label_policy\":{\"id\":\"1153\"},\"ticker\":{\"id\":\"1108\"}},\"id\":\"1107\",\"type\":\"LinearAxis\"},{\"attributes\":{},\"id\":\"1099\",\"type\":\"DataRange1d\"},{\"attributes\":{\"fill_alpha\":{\"value\":0.2},\"fill_color\":{\"value\":\"#1f77b4\"},\"hatch_alpha\":{\"value\":0.2},\"line_alpha\":{\"value\":0.2},\"line_color\":{\"value\":\"#1f77b4\"},\"size\":{\"field\":\"size\"},\"x\":{\"value\":10},\"y\":{\"field\":\"y\"}},\"id\":\"1132\",\"type\":\"Circle\"},{\"attributes\":{\"axis\":{\"id\":\"1107\"},\"coordinates\":null,\"group\":null,\"ticker\":null},\"id\":\"1110\",\"type\":\"Grid\"},{\"attributes\":{\"coordinates\":null,\"data_source\":{\"id\":\"1129\"},\"glyph\":{\"id\":\"1130\"},\"group\":null,\"hover_glyph\":null,\"muted_glyph\":{\"id\":\"1132\"},\"nonselection_glyph\":{\"id\":\"1131\"},\"view\":{\"id\":\"1134\"}},\"id\":\"1133\",\"type\":\"GlyphRenderer\"},{\"attributes\":{},\"id\":\"1108\",\"type\":\"BasicTicker\"},{\"attributes\":{},\"id\":\"1152\",\"type\":\"BasicTickFormatter\"},{\"attributes\":{\"axis\":{\"id\":\"1111\"},\"coordinates\":null,\"dimension\":1,\"group\":null,\"ticker\":null},\"id\":\"1114\",\"type\":\"Grid\"},{\"attributes\":{\"tools\":[{\"id\":\"1115\"},{\"id\":\"1116\"},{\"id\":\"1117\"},{\"id\":\"1118\"},{\"id\":\"1119\"},{\"id\":\"1120\"}]},\"id\":\"1122\",\"type\":\"Toolbar\"},{\"attributes\":{},\"id\":\"1112\",\"type\":\"BasicTicker\"},{\"attributes\":{},\"id\":\"1149\",\"type\":\"BasicTickFormatter\"},{\"attributes\":{},\"id\":\"1116\",\"type\":\"WheelZoomTool\"},{\"attributes\":{},\"id\":\"1115\",\"type\":\"PanTool\"},{\"attributes\":{\"fill_color\":{\"value\":\"#1f77b4\"},\"line_color\":{\"value\":\"#1f77b4\"},\"size\":{\"field\":\"size\"},\"x\":{\"value\":10},\"y\":{\"field\":\"y\"}},\"id\":\"1130\",\"type\":\"Circle\"},{\"attributes\":{\"overlay\":{\"id\":\"1121\"}},\"id\":\"1117\",\"type\":\"BoxZoomTool\"},{\"attributes\":{},\"id\":\"1118\",\"type\":\"SaveTool\"},{\"attributes\":{\"coordinates\":null,\"group\":null},\"id\":\"1146\",\"type\":\"Title\"},{\"attributes\":{},\"id\":\"1119\",\"type\":\"ResetTool\"},{\"attributes\":{},\"id\":\"1103\",\"type\":\"LinearScale\"},{\"attributes\":{\"bottom_units\":\"screen\",\"coordinates\":null,\"fill_alpha\":0.5,\"fill_color\":\"lightgrey\",\"group\":null,\"left_units\":\"screen\",\"level\":\"overlay\",\"line_alpha\":1.0,\"line_color\":\"black\",\"line_dash\":[4,4],\"line_width\":2,\"right_units\":\"screen\",\"syncable\":false,\"top_units\":\"screen\"},\"id\":\"1121\",\"type\":\"BoxAnnotation\"},{\"attributes\":{\"source\":{\"id\":\"1129\"}},\"id\":\"1134\",\"type\":\"CDSView\"},{\"attributes\":{},\"id\":\"1150\",\"type\":\"AllLabels\"},{\"attributes\":{},\"id\":\"1153\",\"type\":\"AllLabels\"},{\"attributes\":{},\"id\":\"1155\",\"type\":\"Selection\"},{\"attributes\":{},\"id\":\"1101\",\"type\":\"DataRange1d\"},{\"attributes\":{},\"id\":\"1154\",\"type\":\"UnionRenderers\"}],\"root_ids\":[\"1098\"]},\"title\":\"Bokeh Application\",\"version\":\"2.4.1\"}};\n",
       "  const render_items = [{\"docid\":\"950afb60-8398-424b-adba-7afacb9cc7de\",\"root_ids\":[\"1098\"],\"roots\":{\"1098\":\"03e80409-56db-4c1a-8669-87441975b894\"}}];\n",
       "  root.Bokeh.embed.embed_items_notebook(docs_json, render_items);\n",
       "\n",
       "  }\n",
       "  if (root.Bokeh !== undefined) {\n",
       "    embed_document(root);\n",
       "  } else {\n",
       "    let attempts = 0;\n",
       "    const timer = setInterval(function(root) {\n",
       "      if (root.Bokeh !== undefined) {\n",
       "        clearInterval(timer);\n",
       "        embed_document(root);\n",
       "      } else {\n",
       "        attempts++;\n",
       "        if (attempts > 100) {\n",
       "          clearInterval(timer);\n",
       "          console.log(\"Bokeh: ERROR: Unable to run BokehJS code because BokehJS library is missing\");\n",
       "        }\n",
       "      }\n",
       "    }, 10, root)\n",
       "  }\n",
       "})(window);"
      ],
      "application/vnd.bokehjs_exec.v0+json": ""
     },
     "metadata": {
      "application/vnd.bokehjs_exec.v0+json": {
       "id": "1098"
      }
     },
     "output_type": "display_data"
    }
   ],
   "source": [
    "plot = figure()\n",
    "plot.circle(x=10, y=[2,5,8,12], size=[10,20,30,40])\n",
    "show(plot)"
   ]
  },
  {
   "cell_type": "markdown",
   "id": "9303d7d8",
   "metadata": {},
   "source": [
    "Markers\n",
    "\n",
    "asterisk()\n",
    "\n",
    "circle()\n",
    "\n",
    "circle_cross()\n",
    "\n",
    "circle_x()\n",
    "\n",
    "cross()\n",
    "\n",
    "diamond()\n",
    "\n",
    "diamond_cross()\n",
    "\n",
    "inverted_triangle()\n",
    "\n",
    "square()\n",
    "\n",
    "square_cross()\n",
    "\n",
    "square_x()\n",
    "\n",
    "triangle()\n",
    "\n",
    "x()"
   ]
  },
  {
   "cell_type": "code",
   "execution_count": 4,
   "id": "8a5b17fb",
   "metadata": {},
   "outputs": [
    {
     "data": {
      "text/html": [
       "\n",
       "\n",
       "\n",
       "\n",
       "\n",
       "\n",
       "  <div class=\"bk-root\" id=\"0bb6cbef-b169-4be1-8c13-56b44c88f8fb\" data-root-id=\"1212\"></div>\n"
      ]
     },
     "metadata": {},
     "output_type": "display_data"
    },
    {
     "data": {
      "application/javascript": [
       "(function(root) {\n",
       "  function embed_document(root) {\n",
       "    \n",
       "  const docs_json = {\"b952486e-d335-4916-9559-6a9e6d2ac95f\":{\"defs\":[],\"roots\":{\"references\":[{\"attributes\":{\"below\":[{\"id\":\"1221\"}],\"center\":[{\"id\":\"1224\"},{\"id\":\"1228\"}],\"left\":[{\"id\":\"1225\"}],\"renderers\":[{\"id\":\"1247\"}],\"title\":{\"id\":\"1271\"},\"toolbar\":{\"id\":\"1236\"},\"x_range\":{\"id\":\"1213\"},\"x_scale\":{\"id\":\"1217\"},\"y_range\":{\"id\":\"1215\"},\"y_scale\":{\"id\":\"1219\"}},\"id\":\"1212\",\"subtype\":\"Figure\",\"type\":\"Plot\"},{\"attributes\":{\"source\":{\"id\":\"1243\"}},\"id\":\"1248\",\"type\":\"CDSView\"},{\"attributes\":{},\"id\":\"1277\",\"type\":\"BasicTickFormatter\"},{\"attributes\":{\"coordinates\":null,\"group\":null},\"id\":\"1271\",\"type\":\"Title\"},{\"attributes\":{},\"id\":\"1278\",\"type\":\"AllLabels\"},{\"attributes\":{\"coordinates\":null,\"formatter\":{\"id\":\"1274\"},\"group\":null,\"major_label_policy\":{\"id\":\"1275\"},\"ticker\":{\"id\":\"1226\"}},\"id\":\"1225\",\"type\":\"LinearAxis\"},{\"attributes\":{\"coordinates\":null,\"data_source\":{\"id\":\"1243\"},\"glyph\":{\"id\":\"1244\"},\"group\":null,\"hover_glyph\":null,\"muted_glyph\":{\"id\":\"1246\"},\"nonselection_glyph\":{\"id\":\"1245\"},\"view\":{\"id\":\"1248\"}},\"id\":\"1247\",\"type\":\"GlyphRenderer\"},{\"attributes\":{},\"id\":\"1226\",\"type\":\"BasicTicker\"},{\"attributes\":{},\"id\":\"1232\",\"type\":\"SaveTool\"},{\"attributes\":{},\"id\":\"1215\",\"type\":\"DataRange1d\"},{\"attributes\":{\"bottom_units\":\"screen\",\"coordinates\":null,\"fill_alpha\":0.5,\"fill_color\":\"lightgrey\",\"group\":null,\"left_units\":\"screen\",\"level\":\"overlay\",\"line_alpha\":1.0,\"line_color\":\"black\",\"line_dash\":[4,4],\"line_width\":2,\"right_units\":\"screen\",\"syncable\":false,\"top_units\":\"screen\"},\"id\":\"1235\",\"type\":\"BoxAnnotation\"},{\"attributes\":{},\"id\":\"1213\",\"type\":\"DataRange1d\"},{\"attributes\":{},\"id\":\"1279\",\"type\":\"UnionRenderers\"},{\"attributes\":{\"data\":{\"x\":[1,2,3,4,5],\"y\":[8,6,5,2,3]},\"selected\":{\"id\":\"1280\"},\"selection_policy\":{\"id\":\"1279\"}},\"id\":\"1243\",\"type\":\"ColumnDataSource\"},{\"attributes\":{\"line_color\":\"#1f77b4\",\"line_width\":3,\"x\":{\"field\":\"x\"},\"y\":{\"field\":\"y\"}},\"id\":\"1244\",\"type\":\"Line\"},{\"attributes\":{},\"id\":\"1217\",\"type\":\"LinearScale\"},{\"attributes\":{},\"id\":\"1280\",\"type\":\"Selection\"},{\"attributes\":{\"coordinates\":null,\"formatter\":{\"id\":\"1277\"},\"group\":null,\"major_label_policy\":{\"id\":\"1278\"},\"ticker\":{\"id\":\"1222\"}},\"id\":\"1221\",\"type\":\"LinearAxis\"},{\"attributes\":{\"axis\":{\"id\":\"1225\"},\"coordinates\":null,\"dimension\":1,\"group\":null,\"ticker\":null},\"id\":\"1228\",\"type\":\"Grid\"},{\"attributes\":{},\"id\":\"1219\",\"type\":\"LinearScale\"},{\"attributes\":{},\"id\":\"1230\",\"type\":\"WheelZoomTool\"},{\"attributes\":{\"line_alpha\":0.2,\"line_color\":\"#1f77b4\",\"line_width\":3,\"x\":{\"field\":\"x\"},\"y\":{\"field\":\"y\"}},\"id\":\"1246\",\"type\":\"Line\"},{\"attributes\":{\"line_alpha\":0.1,\"line_color\":\"#1f77b4\",\"line_width\":3,\"x\":{\"field\":\"x\"},\"y\":{\"field\":\"y\"}},\"id\":\"1245\",\"type\":\"Line\"},{\"attributes\":{\"overlay\":{\"id\":\"1235\"}},\"id\":\"1231\",\"type\":\"BoxZoomTool\"},{\"attributes\":{},\"id\":\"1222\",\"type\":\"BasicTicker\"},{\"attributes\":{\"axis\":{\"id\":\"1221\"},\"coordinates\":null,\"group\":null,\"ticker\":null},\"id\":\"1224\",\"type\":\"Grid\"},{\"attributes\":{},\"id\":\"1229\",\"type\":\"PanTool\"},{\"attributes\":{},\"id\":\"1234\",\"type\":\"HelpTool\"},{\"attributes\":{},\"id\":\"1233\",\"type\":\"ResetTool\"},{\"attributes\":{},\"id\":\"1274\",\"type\":\"BasicTickFormatter\"},{\"attributes\":{\"tools\":[{\"id\":\"1229\"},{\"id\":\"1230\"},{\"id\":\"1231\"},{\"id\":\"1232\"},{\"id\":\"1233\"},{\"id\":\"1234\"}]},\"id\":\"1236\",\"type\":\"Toolbar\"},{\"attributes\":{},\"id\":\"1275\",\"type\":\"AllLabels\"}],\"root_ids\":[\"1212\"]},\"title\":\"Bokeh Application\",\"version\":\"2.4.1\"}};\n",
       "  const render_items = [{\"docid\":\"b952486e-d335-4916-9559-6a9e6d2ac95f\",\"root_ids\":[\"1212\"],\"roots\":{\"1212\":\"0bb6cbef-b169-4be1-8c13-56b44c88f8fb\"}}];\n",
       "  root.Bokeh.embed.embed_items_notebook(docs_json, render_items);\n",
       "\n",
       "  }\n",
       "  if (root.Bokeh !== undefined) {\n",
       "    embed_document(root);\n",
       "  } else {\n",
       "    let attempts = 0;\n",
       "    const timer = setInterval(function(root) {\n",
       "      if (root.Bokeh !== undefined) {\n",
       "        clearInterval(timer);\n",
       "        embed_document(root);\n",
       "      } else {\n",
       "        attempts++;\n",
       "        if (attempts > 100) {\n",
       "          clearInterval(timer);\n",
       "          console.log(\"Bokeh: ERROR: Unable to run BokehJS code because BokehJS library is missing\");\n",
       "        }\n",
       "      }\n",
       "    }, 10, root)\n",
       "  }\n",
       "})(window);"
      ],
      "application/vnd.bokehjs_exec.v0+json": ""
     },
     "metadata": {
      "application/vnd.bokehjs_exec.v0+json": {
       "id": "1212"
      }
     },
     "output_type": "display_data"
    }
   ],
   "source": [
    "from bokeh.io import output_file, show\n",
    "from bokeh.plotting import figure\n",
    "x = [1,2,3,4,5]\n",
    "y = [8,6,5,2,3]\n",
    "plot = figure()\n",
    "plot.line(x, y, line_width=3)\n",
    "\n",
    "show(plot)"
   ]
  },
  {
   "cell_type": "code",
   "execution_count": 5,
   "id": "3a8a36b5",
   "metadata": {},
   "outputs": [
    {
     "data": {
      "text/html": [
       "\n",
       "\n",
       "\n",
       "\n",
       "\n",
       "\n",
       "  <div class=\"bk-root\" id=\"5ba2e0ae-87de-422d-8926-23eba6cae007\" data-root-id=\"1337\"></div>\n"
      ]
     },
     "metadata": {},
     "output_type": "display_data"
    },
    {
     "data": {
      "application/javascript": [
       "(function(root) {\n",
       "  function embed_document(root) {\n",
       "    \n",
       "  const docs_json = {\"c198c738-0f01-42d0-9dbc-131a722f4fca\":{\"defs\":[],\"roots\":{\"references\":[{\"attributes\":{\"below\":[{\"id\":\"1346\"}],\"center\":[{\"id\":\"1349\"},{\"id\":\"1353\"}],\"left\":[{\"id\":\"1350\"}],\"renderers\":[{\"id\":\"1372\"},{\"id\":\"1378\"}],\"title\":{\"id\":\"1413\"},\"toolbar\":{\"id\":\"1361\"},\"x_range\":{\"id\":\"1338\"},\"x_scale\":{\"id\":\"1342\"},\"y_range\":{\"id\":\"1340\"},\"y_scale\":{\"id\":\"1344\"}},\"id\":\"1337\",\"subtype\":\"Figure\",\"type\":\"Plot\"},{\"attributes\":{},\"id\":\"1419\",\"type\":\"BasicTickFormatter\"},{\"attributes\":{},\"id\":\"1342\",\"type\":\"LinearScale\"},{\"attributes\":{},\"id\":\"1354\",\"type\":\"PanTool\"},{\"attributes\":{},\"id\":\"1420\",\"type\":\"AllLabels\"},{\"attributes\":{\"coordinates\":null,\"data_source\":{\"id\":\"1374\"},\"glyph\":{\"id\":\"1375\"},\"group\":null,\"hover_glyph\":null,\"muted_glyph\":{\"id\":\"1377\"},\"nonselection_glyph\":{\"id\":\"1376\"},\"view\":{\"id\":\"1379\"}},\"id\":\"1378\",\"type\":\"GlyphRenderer\"},{\"attributes\":{},\"id\":\"1355\",\"type\":\"WheelZoomTool\"},{\"attributes\":{\"line_alpha\":0.1,\"line_color\":\"#1f77b4\",\"line_width\":2,\"x\":{\"field\":\"x\"},\"y\":{\"field\":\"y\"}},\"id\":\"1370\",\"type\":\"Line\"},{\"attributes\":{\"fill_alpha\":{\"value\":0.2},\"fill_color\":{\"value\":\"red\"},\"hatch_alpha\":{\"value\":0.2},\"line_alpha\":{\"value\":0.2},\"line_color\":{\"value\":\"#1f77b4\"},\"size\":{\"value\":10},\"x\":{\"field\":\"x\"},\"y\":{\"field\":\"y\"}},\"id\":\"1377\",\"type\":\"Circle\"},{\"attributes\":{\"overlay\":{\"id\":\"1360\"}},\"id\":\"1356\",\"type\":\"BoxZoomTool\"},{\"attributes\":{\"source\":{\"id\":\"1374\"}},\"id\":\"1379\",\"type\":\"CDSView\"},{\"attributes\":{\"data\":{\"x\":[1,2,3,4,5],\"y\":[8,6,5,2,3]},\"selected\":{\"id\":\"1424\"},\"selection_policy\":{\"id\":\"1423\"}},\"id\":\"1374\",\"type\":\"ColumnDataSource\"},{\"attributes\":{\"coordinates\":null,\"formatter\":{\"id\":\"1416\"},\"group\":null,\"major_label_policy\":{\"id\":\"1417\"},\"ticker\":{\"id\":\"1351\"}},\"id\":\"1350\",\"type\":\"LinearAxis\"},{\"attributes\":{},\"id\":\"1421\",\"type\":\"UnionRenderers\"},{\"attributes\":{},\"id\":\"1338\",\"type\":\"DataRange1d\"},{\"attributes\":{\"source\":{\"id\":\"1368\"}},\"id\":\"1373\",\"type\":\"CDSView\"},{\"attributes\":{},\"id\":\"1422\",\"type\":\"Selection\"},{\"attributes\":{\"bottom_units\":\"screen\",\"coordinates\":null,\"fill_alpha\":0.5,\"fill_color\":\"lightgrey\",\"group\":null,\"left_units\":\"screen\",\"level\":\"overlay\",\"line_alpha\":1.0,\"line_color\":\"black\",\"line_dash\":[4,4],\"line_width\":2,\"right_units\":\"screen\",\"syncable\":false,\"top_units\":\"screen\"},\"id\":\"1360\",\"type\":\"BoxAnnotation\"},{\"attributes\":{},\"id\":\"1340\",\"type\":\"DataRange1d\"},{\"attributes\":{\"line_alpha\":0.2,\"line_color\":\"#1f77b4\",\"line_width\":2,\"x\":{\"field\":\"x\"},\"y\":{\"field\":\"y\"}},\"id\":\"1371\",\"type\":\"Line\"},{\"attributes\":{\"line_color\":\"#1f77b4\",\"line_width\":2,\"x\":{\"field\":\"x\"},\"y\":{\"field\":\"y\"}},\"id\":\"1369\",\"type\":\"Line\"},{\"attributes\":{},\"id\":\"1344\",\"type\":\"LinearScale\"},{\"attributes\":{\"axis\":{\"id\":\"1346\"},\"coordinates\":null,\"group\":null,\"ticker\":null},\"id\":\"1349\",\"type\":\"Grid\"},{\"attributes\":{\"data\":{\"x\":[1,2,3,4,5],\"y\":[8,6,5,2,3]},\"selected\":{\"id\":\"1422\"},\"selection_policy\":{\"id\":\"1421\"}},\"id\":\"1368\",\"type\":\"ColumnDataSource\"},{\"attributes\":{\"fill_alpha\":{\"value\":0.1},\"fill_color\":{\"value\":\"red\"},\"hatch_alpha\":{\"value\":0.1},\"line_alpha\":{\"value\":0.1},\"line_color\":{\"value\":\"#1f77b4\"},\"size\":{\"value\":10},\"x\":{\"field\":\"x\"},\"y\":{\"field\":\"y\"}},\"id\":\"1376\",\"type\":\"Circle\"},{\"attributes\":{},\"id\":\"1417\",\"type\":\"AllLabels\"},{\"attributes\":{\"fill_color\":{\"value\":\"red\"},\"line_color\":{\"value\":\"#1f77b4\"},\"size\":{\"value\":10},\"x\":{\"field\":\"x\"},\"y\":{\"field\":\"y\"}},\"id\":\"1375\",\"type\":\"Circle\"},{\"attributes\":{},\"id\":\"1423\",\"type\":\"UnionRenderers\"},{\"attributes\":{\"tools\":[{\"id\":\"1354\"},{\"id\":\"1355\"},{\"id\":\"1356\"},{\"id\":\"1357\"},{\"id\":\"1358\"},{\"id\":\"1359\"}]},\"id\":\"1361\",\"type\":\"Toolbar\"},{\"attributes\":{\"coordinates\":null,\"formatter\":{\"id\":\"1419\"},\"group\":null,\"major_label_policy\":{\"id\":\"1420\"},\"ticker\":{\"id\":\"1347\"}},\"id\":\"1346\",\"type\":\"LinearAxis\"},{\"attributes\":{\"coordinates\":null,\"data_source\":{\"id\":\"1368\"},\"glyph\":{\"id\":\"1369\"},\"group\":null,\"hover_glyph\":null,\"muted_glyph\":{\"id\":\"1371\"},\"nonselection_glyph\":{\"id\":\"1370\"},\"view\":{\"id\":\"1373\"}},\"id\":\"1372\",\"type\":\"GlyphRenderer\"},{\"attributes\":{},\"id\":\"1351\",\"type\":\"BasicTicker\"},{\"attributes\":{\"coordinates\":null,\"group\":null},\"id\":\"1413\",\"type\":\"Title\"},{\"attributes\":{},\"id\":\"1357\",\"type\":\"SaveTool\"},{\"attributes\":{},\"id\":\"1424\",\"type\":\"Selection\"},{\"attributes\":{\"axis\":{\"id\":\"1350\"},\"coordinates\":null,\"dimension\":1,\"group\":null,\"ticker\":null},\"id\":\"1353\",\"type\":\"Grid\"},{\"attributes\":{},\"id\":\"1416\",\"type\":\"BasicTickFormatter\"},{\"attributes\":{},\"id\":\"1359\",\"type\":\"HelpTool\"},{\"attributes\":{},\"id\":\"1358\",\"type\":\"ResetTool\"},{\"attributes\":{},\"id\":\"1347\",\"type\":\"BasicTicker\"}],\"root_ids\":[\"1337\"]},\"title\":\"Bokeh Application\",\"version\":\"2.4.1\"}};\n",
       "  const render_items = [{\"docid\":\"c198c738-0f01-42d0-9dbc-131a722f4fca\",\"root_ids\":[\"1337\"],\"roots\":{\"1337\":\"5ba2e0ae-87de-422d-8926-23eba6cae007\"}}];\n",
       "  root.Bokeh.embed.embed_items_notebook(docs_json, render_items);\n",
       "\n",
       "  }\n",
       "  if (root.Bokeh !== undefined) {\n",
       "    embed_document(root);\n",
       "  } else {\n",
       "    let attempts = 0;\n",
       "    const timer = setInterval(function(root) {\n",
       "      if (root.Bokeh !== undefined) {\n",
       "        clearInterval(timer);\n",
       "        embed_document(root);\n",
       "      } else {\n",
       "        attempts++;\n",
       "        if (attempts > 100) {\n",
       "          clearInterval(timer);\n",
       "          console.log(\"Bokeh: ERROR: Unable to run BokehJS code because BokehJS library is missing\");\n",
       "        }\n",
       "      }\n",
       "    }, 10, root)\n",
       "  }\n",
       "})(window);"
      ],
      "application/vnd.bokehjs_exec.v0+json": ""
     },
     "metadata": {
      "application/vnd.bokehjs_exec.v0+json": {
       "id": "1337"
      }
     },
     "output_type": "display_data"
    }
   ],
   "source": [
    "#Lines and Markers Together\n",
    "from bokeh.io import output_file, show\n",
    "from bokeh.plotting import figure\n",
    "x = [1,2,3,4,5]\n",
    "y = [8,6,5,2,3]\n",
    "plot = figure()\n",
    "plot.line(x, y, line_width=2)\n",
    "plot.circle(x, y, fill_color='red', size=10)\n",
    "\n",
    "show(plot)"
   ]
  },
  {
   "cell_type": "markdown",
   "id": "45f16c0a",
   "metadata": {},
   "source": [
    "Other glyphs\n",
    "\n",
    "annulus()\n",
    "\n",
    "annular_wedge()\n",
    "\n",
    "wedge()\n",
    "\n",
    "rect()\n",
    "\n",
    "quad()\n",
    "\n",
    "vbar()\n",
    "\n",
    "hbar()\n",
    "\n",
    "image()\n",
    "\n",
    "image_rgba()\n",
    "\n",
    "image_url()\n",
    "\n",
    "patch()\n",
    "\n",
    "patches()\n",
    "\n",
    "line()\n",
    "\n",
    "multi_line()\n",
    "\n",
    "circle()\n",
    "\n",
    "oval()\n",
    "\n",
    "ellipse()\n",
    "\n",
    "arc()\n",
    "\n",
    "quadratic()\n",
    "\n",
    "bezier()"
   ]
  },
  {
   "cell_type": "markdown",
   "id": "eeba94c1",
   "metadata": {},
   "source": [
    "Visualisations from various data sources\n",
    "\n",
    "1. Python Basic Types"
   ]
  },
  {
   "cell_type": "code",
   "execution_count": 7,
   "id": "27cefe7e",
   "metadata": {},
   "outputs": [
    {
     "data": {
      "text/html": [
       "\n",
       "\n",
       "\n",
       "\n",
       "\n",
       "\n",
       "  <div class=\"bk-root\" id=\"f7cedec5-7845-449b-bac2-d47f8aa272a4\" data-root-id=\"1491\"></div>\n"
      ]
     },
     "metadata": {},
     "output_type": "display_data"
    },
    {
     "data": {
      "application/javascript": [
       "(function(root) {\n",
       "  function embed_document(root) {\n",
       "    \n",
       "  const docs_json = {\"c7b80b63-81bb-46d4-905d-85981d88099d\":{\"defs\":[],\"roots\":{\"references\":[{\"attributes\":{\"below\":[{\"id\":\"1500\"}],\"center\":[{\"id\":\"1503\"},{\"id\":\"1507\"}],\"left\":[{\"id\":\"1504\"}],\"renderers\":[{\"id\":\"1526\"},{\"id\":\"1532\"}],\"title\":{\"id\":\"1580\"},\"toolbar\":{\"id\":\"1515\"},\"x_range\":{\"id\":\"1492\"},\"x_scale\":{\"id\":\"1496\"},\"y_range\":{\"id\":\"1494\"},\"y_scale\":{\"id\":\"1498\"}},\"id\":\"1491\",\"subtype\":\"Figure\",\"type\":\"Plot\"},{\"attributes\":{},\"id\":\"1583\",\"type\":\"BasicTickFormatter\"},{\"attributes\":{\"fill_alpha\":{\"value\":0.1},\"fill_color\":{\"value\":\"purple\"},\"hatch_alpha\":{\"value\":0.1},\"line_alpha\":{\"value\":0.1},\"line_color\":{\"value\":\"#1f77b4\"},\"size\":{\"value\":10},\"x\":{\"field\":\"x\"},\"y\":{\"field\":\"y\"}},\"id\":\"1530\",\"type\":\"Circle\"},{\"attributes\":{},\"id\":\"1505\",\"type\":\"BasicTicker\"},{\"attributes\":{},\"id\":\"1590\",\"type\":\"UnionRenderers\"},{\"attributes\":{},\"id\":\"1584\",\"type\":\"AllLabels\"},{\"attributes\":{},\"id\":\"1591\",\"type\":\"Selection\"},{\"attributes\":{},\"id\":\"1496\",\"type\":\"LinearScale\"},{\"attributes\":{\"bottom_units\":\"screen\",\"coordinates\":null,\"fill_alpha\":0.5,\"fill_color\":\"lightgrey\",\"group\":null,\"left_units\":\"screen\",\"level\":\"overlay\",\"line_alpha\":1.0,\"line_color\":\"black\",\"line_dash\":[4,4],\"line_width\":2,\"right_units\":\"screen\",\"syncable\":false,\"top_units\":\"screen\"},\"id\":\"1514\",\"type\":\"BoxAnnotation\"},{\"attributes\":{},\"id\":\"1586\",\"type\":\"BasicTickFormatter\"},{\"attributes\":{\"axis\":{\"id\":\"1504\"},\"coordinates\":null,\"dimension\":1,\"group\":null,\"ticker\":null},\"id\":\"1507\",\"type\":\"Grid\"},{\"attributes\":{\"line_color\":\"#1f77b4\",\"line_width\":3,\"x\":{\"field\":\"x\"},\"y\":{\"field\":\"y\"}},\"id\":\"1523\",\"type\":\"Line\"},{\"attributes\":{\"data\":{\"x\":[1,2,3,4,5],\"y\":[8,6,5,2,3]},\"selected\":{\"id\":\"1589\"},\"selection_policy\":{\"id\":\"1588\"}},\"id\":\"1522\",\"type\":\"ColumnDataSource\"},{\"attributes\":{\"tools\":[{\"id\":\"1508\"},{\"id\":\"1509\"},{\"id\":\"1510\"},{\"id\":\"1511\"},{\"id\":\"1512\"},{\"id\":\"1513\"}]},\"id\":\"1515\",\"type\":\"Toolbar\"},{\"attributes\":{\"coordinates\":null,\"group\":null},\"id\":\"1580\",\"type\":\"Title\"},{\"attributes\":{},\"id\":\"1494\",\"type\":\"DataRange1d\"},{\"attributes\":{\"source\":{\"id\":\"1522\"}},\"id\":\"1527\",\"type\":\"CDSView\"},{\"attributes\":{\"data\":{\"x\":[1,2,3,4,5],\"y\":[8,6,5,2,3]},\"selected\":{\"id\":\"1591\"},\"selection_policy\":{\"id\":\"1590\"}},\"id\":\"1528\",\"type\":\"ColumnDataSource\"},{\"attributes\":{},\"id\":\"1501\",\"type\":\"BasicTicker\"},{\"attributes\":{\"coordinates\":null,\"data_source\":{\"id\":\"1522\"},\"glyph\":{\"id\":\"1523\"},\"group\":null,\"hover_glyph\":null,\"muted_glyph\":{\"id\":\"1525\"},\"nonselection_glyph\":{\"id\":\"1524\"},\"view\":{\"id\":\"1527\"}},\"id\":\"1526\",\"type\":\"GlyphRenderer\"},{\"attributes\":{},\"id\":\"1588\",\"type\":\"UnionRenderers\"},{\"attributes\":{\"line_alpha\":0.2,\"line_color\":\"#1f77b4\",\"line_width\":3,\"x\":{\"field\":\"x\"},\"y\":{\"field\":\"y\"}},\"id\":\"1525\",\"type\":\"Line\"},{\"attributes\":{},\"id\":\"1509\",\"type\":\"WheelZoomTool\"},{\"attributes\":{\"line_alpha\":0.1,\"line_color\":\"#1f77b4\",\"line_width\":3,\"x\":{\"field\":\"x\"},\"y\":{\"field\":\"y\"}},\"id\":\"1524\",\"type\":\"Line\"},{\"attributes\":{\"fill_color\":{\"value\":\"purple\"},\"line_color\":{\"value\":\"#1f77b4\"},\"size\":{\"value\":10},\"x\":{\"field\":\"x\"},\"y\":{\"field\":\"y\"}},\"id\":\"1529\",\"type\":\"Circle\"},{\"attributes\":{\"axis\":{\"id\":\"1500\"},\"coordinates\":null,\"group\":null,\"ticker\":null},\"id\":\"1503\",\"type\":\"Grid\"},{\"attributes\":{},\"id\":\"1492\",\"type\":\"DataRange1d\"},{\"attributes\":{},\"id\":\"1511\",\"type\":\"SaveTool\"},{\"attributes\":{},\"id\":\"1513\",\"type\":\"HelpTool\"},{\"attributes\":{\"source\":{\"id\":\"1528\"}},\"id\":\"1533\",\"type\":\"CDSView\"},{\"attributes\":{\"coordinates\":null,\"data_source\":{\"id\":\"1528\"},\"glyph\":{\"id\":\"1529\"},\"group\":null,\"hover_glyph\":null,\"muted_glyph\":{\"id\":\"1531\"},\"nonselection_glyph\":{\"id\":\"1530\"},\"view\":{\"id\":\"1533\"}},\"id\":\"1532\",\"type\":\"GlyphRenderer\"},{\"attributes\":{},\"id\":\"1508\",\"type\":\"PanTool\"},{\"attributes\":{\"fill_alpha\":{\"value\":0.2},\"fill_color\":{\"value\":\"purple\"},\"hatch_alpha\":{\"value\":0.2},\"line_alpha\":{\"value\":0.2},\"line_color\":{\"value\":\"#1f77b4\"},\"size\":{\"value\":10},\"x\":{\"field\":\"x\"},\"y\":{\"field\":\"y\"}},\"id\":\"1531\",\"type\":\"Circle\"},{\"attributes\":{},\"id\":\"1589\",\"type\":\"Selection\"},{\"attributes\":{},\"id\":\"1587\",\"type\":\"AllLabels\"},{\"attributes\":{\"coordinates\":null,\"formatter\":{\"id\":\"1583\"},\"group\":null,\"major_label_policy\":{\"id\":\"1584\"},\"ticker\":{\"id\":\"1505\"}},\"id\":\"1504\",\"type\":\"LinearAxis\"},{\"attributes\":{\"overlay\":{\"id\":\"1514\"}},\"id\":\"1510\",\"type\":\"BoxZoomTool\"},{\"attributes\":{\"coordinates\":null,\"formatter\":{\"id\":\"1586\"},\"group\":null,\"major_label_policy\":{\"id\":\"1587\"},\"ticker\":{\"id\":\"1501\"}},\"id\":\"1500\",\"type\":\"LinearAxis\"},{\"attributes\":{},\"id\":\"1498\",\"type\":\"LinearScale\"},{\"attributes\":{},\"id\":\"1512\",\"type\":\"ResetTool\"}],\"root_ids\":[\"1491\"]},\"title\":\"Bokeh Application\",\"version\":\"2.4.1\"}};\n",
       "  const render_items = [{\"docid\":\"c7b80b63-81bb-46d4-905d-85981d88099d\",\"root_ids\":[\"1491\"],\"roots\":{\"1491\":\"f7cedec5-7845-449b-bac2-d47f8aa272a4\"}}];\n",
       "  root.Bokeh.embed.embed_items_notebook(docs_json, render_items);\n",
       "\n",
       "  }\n",
       "  if (root.Bokeh !== undefined) {\n",
       "    embed_document(root);\n",
       "  } else {\n",
       "    let attempts = 0;\n",
       "    const timer = setInterval(function(root) {\n",
       "      if (root.Bokeh !== undefined) {\n",
       "        clearInterval(timer);\n",
       "        embed_document(root);\n",
       "      } else {\n",
       "        attempts++;\n",
       "        if (attempts > 100) {\n",
       "          clearInterval(timer);\n",
       "          console.log(\"Bokeh: ERROR: Unable to run BokehJS code because BokehJS library is missing\");\n",
       "        }\n",
       "      }\n",
       "    }, 10, root)\n",
       "  }\n",
       "})(window);"
      ],
      "application/vnd.bokehjs_exec.v0+json": ""
     },
     "metadata": {
      "application/vnd.bokehjs_exec.v0+json": {
       "id": "1491"
      }
     },
     "output_type": "display_data"
    }
   ],
   "source": [
    "#Python Basic Types\n",
    "from bokeh.io import show\n",
    "from bokeh.plotting import figure\n",
    "x = [1,2,3,4,5]\n",
    "y = [8,6,5,2,3]\n",
    "plot = figure()\n",
    "plot.line(x, y, line_width=3)\n",
    "plot.circle(x, y, fill_color='purple', size=10)\n",
    "\n",
    "show(plot)"
   ]
  },
  {
   "cell_type": "markdown",
   "id": "0fd8164a",
   "metadata": {},
   "source": [
    "2. NumPy Arrays"
   ]
  },
  {
   "cell_type": "code",
   "execution_count": 8,
   "id": "a740f20e",
   "metadata": {},
   "outputs": [
    {
     "data": {
      "text/html": [
       "\n",
       "\n",
       "\n",
       "\n",
       "\n",
       "\n",
       "  <div class=\"bk-root\" id=\"615edc98-d7cc-47fa-8ce0-bfd3ea9960dd\" data-root-id=\"1658\"></div>\n"
      ]
     },
     "metadata": {},
     "output_type": "display_data"
    },
    {
     "data": {
      "application/javascript": [
       "(function(root) {\n",
       "  function embed_document(root) {\n",
       "    \n",
       "  const docs_json = {\"4efb8b6c-7213-4717-b85e-126ac24292c7\":{\"defs\":[],\"roots\":{\"references\":[{\"attributes\":{\"below\":[{\"id\":\"1667\"}],\"center\":[{\"id\":\"1670\"},{\"id\":\"1674\"}],\"left\":[{\"id\":\"1671\"}],\"renderers\":[{\"id\":\"1693\"}],\"title\":{\"id\":\"1754\"},\"toolbar\":{\"id\":\"1682\"},\"x_range\":{\"id\":\"1659\"},\"x_scale\":{\"id\":\"1663\"},\"y_range\":{\"id\":\"1661\"},\"y_scale\":{\"id\":\"1665\"}},\"id\":\"1658\",\"subtype\":\"Figure\",\"type\":\"Plot\"},{\"attributes\":{},\"id\":\"1762\",\"type\":\"UnionRenderers\"},{\"attributes\":{},\"id\":\"1659\",\"type\":\"DataRange1d\"},{\"attributes\":{},\"id\":\"1763\",\"type\":\"Selection\"},{\"attributes\":{\"coordinates\":null,\"formatter\":{\"id\":\"1760\"},\"group\":null,\"major_label_policy\":{\"id\":\"1761\"},\"ticker\":{\"id\":\"1668\"}},\"id\":\"1667\",\"type\":\"LinearAxis\"},{\"attributes\":{},\"id\":\"1676\",\"type\":\"WheelZoomTool\"},{\"attributes\":{},\"id\":\"1672\",\"type\":\"BasicTicker\"},{\"attributes\":{},\"id\":\"1675\",\"type\":\"PanTool\"},{\"attributes\":{\"source\":{\"id\":\"1689\"}},\"id\":\"1694\",\"type\":\"CDSView\"},{\"attributes\":{},\"id\":\"1678\",\"type\":\"SaveTool\"},{\"attributes\":{},\"id\":\"1679\",\"type\":\"ResetTool\"},{\"attributes\":{\"line_alpha\":0.2,\"line_color\":\"#1f77b4\",\"x\":{\"field\":\"x\"},\"y\":{\"field\":\"y\"}},\"id\":\"1692\",\"type\":\"Line\"},{\"attributes\":{\"overlay\":{\"id\":\"1681\"}},\"id\":\"1677\",\"type\":\"BoxZoomTool\"},{\"attributes\":{\"line_color\":\"#1f77b4\",\"x\":{\"field\":\"x\"},\"y\":{\"field\":\"y\"}},\"id\":\"1690\",\"type\":\"Line\"},{\"attributes\":{},\"id\":\"1760\",\"type\":\"BasicTickFormatter\"},{\"attributes\":{},\"id\":\"1661\",\"type\":\"DataRange1d\"},{\"attributes\":{\"coordinates\":null,\"group\":null},\"id\":\"1754\",\"type\":\"Title\"},{\"attributes\":{},\"id\":\"1680\",\"type\":\"HelpTool\"},{\"attributes\":{\"coordinates\":null,\"data_source\":{\"id\":\"1689\"},\"glyph\":{\"id\":\"1690\"},\"group\":null,\"hover_glyph\":null,\"muted_glyph\":{\"id\":\"1692\"},\"nonselection_glyph\":{\"id\":\"1691\"},\"view\":{\"id\":\"1694\"}},\"id\":\"1693\",\"type\":\"GlyphRenderer\"},{\"attributes\":{\"coordinates\":null,\"formatter\":{\"id\":\"1757\"},\"group\":null,\"major_label_policy\":{\"id\":\"1758\"},\"ticker\":{\"id\":\"1672\"}},\"id\":\"1671\",\"type\":\"LinearAxis\"},{\"attributes\":{\"bottom_units\":\"screen\",\"coordinates\":null,\"fill_alpha\":0.5,\"fill_color\":\"lightgrey\",\"group\":null,\"left_units\":\"screen\",\"level\":\"overlay\",\"line_alpha\":1.0,\"line_color\":\"black\",\"line_dash\":[4,4],\"line_width\":2,\"right_units\":\"screen\",\"syncable\":false,\"top_units\":\"screen\"},\"id\":\"1681\",\"type\":\"BoxAnnotation\"},{\"attributes\":{\"data\":{\"x\":{\"__ndarray__\":\"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\",\"dtype\":\"float64\",\"order\":\"little\",\"shape\":[1000]},\"y\":{\"__ndarray__\":\"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\",\"dtype\":\"float64\",\"order\":\"little\",\"shape\":[1000]}},\"selected\":{\"id\":\"1763\"},\"selection_policy\":{\"id\":\"1762\"}},\"id\":\"1689\",\"type\":\"ColumnDataSource\"},{\"attributes\":{},\"id\":\"1757\",\"type\":\"BasicTickFormatter\"},{\"attributes\":{},\"id\":\"1663\",\"type\":\"LinearScale\"},{\"attributes\":{\"axis\":{\"id\":\"1671\"},\"coordinates\":null,\"dimension\":1,\"group\":null,\"ticker\":null},\"id\":\"1674\",\"type\":\"Grid\"},{\"attributes\":{},\"id\":\"1758\",\"type\":\"AllLabels\"},{\"attributes\":{\"tools\":[{\"id\":\"1675\"},{\"id\":\"1676\"},{\"id\":\"1677\"},{\"id\":\"1678\"},{\"id\":\"1679\"},{\"id\":\"1680\"}]},\"id\":\"1682\",\"type\":\"Toolbar\"},{\"attributes\":{},\"id\":\"1665\",\"type\":\"LinearScale\"},{\"attributes\":{},\"id\":\"1761\",\"type\":\"AllLabels\"},{\"attributes\":{\"axis\":{\"id\":\"1667\"},\"coordinates\":null,\"group\":null,\"ticker\":null},\"id\":\"1670\",\"type\":\"Grid\"},{\"attributes\":{\"line_alpha\":0.1,\"line_color\":\"#1f77b4\",\"x\":{\"field\":\"x\"},\"y\":{\"field\":\"y\"}},\"id\":\"1691\",\"type\":\"Line\"},{\"attributes\":{},\"id\":\"1668\",\"type\":\"BasicTicker\"}],\"root_ids\":[\"1658\"]},\"title\":\"Bokeh Application\",\"version\":\"2.4.1\"}};\n",
       "  const render_items = [{\"docid\":\"4efb8b6c-7213-4717-b85e-126ac24292c7\",\"root_ids\":[\"1658\"],\"roots\":{\"1658\":\"615edc98-d7cc-47fa-8ce0-bfd3ea9960dd\"}}];\n",
       "  root.Bokeh.embed.embed_items_notebook(docs_json, render_items);\n",
       "\n",
       "  }\n",
       "  if (root.Bokeh !== undefined) {\n",
       "    embed_document(root);\n",
       "  } else {\n",
       "    let attempts = 0;\n",
       "    const timer = setInterval(function(root) {\n",
       "      if (root.Bokeh !== undefined) {\n",
       "        clearInterval(timer);\n",
       "        embed_document(root);\n",
       "      } else {\n",
       "        attempts++;\n",
       "        if (attempts > 100) {\n",
       "          clearInterval(timer);\n",
       "          console.log(\"Bokeh: ERROR: Unable to run BokehJS code because BokehJS library is missing\");\n",
       "        }\n",
       "      }\n",
       "    }, 10, root)\n",
       "  }\n",
       "})(window);"
      ],
      "application/vnd.bokehjs_exec.v0+json": ""
     },
     "metadata": {
      "application/vnd.bokehjs_exec.v0+json": {
       "id": "1658"
      }
     },
     "output_type": "display_data"
    }
   ],
   "source": [
    "#NumPy Arrays\n",
    "from bokeh.io import show\n",
    "from bokeh.plotting import figure\n",
    "import numpy as np\n",
    "x = np.linspace(0, 10, 1000)\n",
    "y = np.sin(x) + np.random.random(1000) * 0.2\n",
    "plot = figure()\n",
    "plot.line(x, y)\n",
    "show(plot)"
   ]
  },
  {
   "cell_type": "markdown",
   "id": "8d0b4119",
   "metadata": {},
   "source": [
    "3. Pandas"
   ]
  },
  {
   "cell_type": "code",
   "execution_count": 10,
   "id": "6c73e7d7",
   "metadata": {},
   "outputs": [
    {
     "data": {
      "text/html": [
       "\n",
       "\n",
       "\n",
       "\n",
       "\n",
       "\n",
       "  <div class=\"bk-root\" id=\"83aed4cf-b27b-4cc3-9643-5b6b115b7cd2\" data-root-id=\"1993\"></div>\n"
      ]
     },
     "metadata": {},
     "output_type": "display_data"
    },
    {
     "data": {
      "application/javascript": [
       "(function(root) {\n",
       "  function embed_document(root) {\n",
       "    \n",
       "  const docs_json = {\"900f5cee-0f26-44f0-b26d-14a1fca03c70\":{\"defs\":[],\"roots\":{\"references\":[{\"attributes\":{\"below\":[{\"id\":\"2002\"}],\"center\":[{\"id\":\"2005\"},{\"id\":\"2009\"}],\"left\":[{\"id\":\"2006\"}],\"renderers\":[{\"id\":\"2028\"}],\"title\":{\"id\":\"2111\"},\"toolbar\":{\"id\":\"2017\"},\"x_range\":{\"id\":\"1994\"},\"x_scale\":{\"id\":\"1998\"},\"y_range\":{\"id\":\"1996\"},\"y_scale\":{\"id\":\"2000\"}},\"id\":\"1993\",\"subtype\":\"Figure\",\"type\":\"Plot\"},{\"attributes\":{},\"id\":\"2015\",\"type\":\"HelpTool\"},{\"attributes\":{\"axis\":{\"id\":\"2006\"},\"coordinates\":null,\"dimension\":1,\"group\":null,\"ticker\":null},\"id\":\"2009\",\"type\":\"Grid\"},{\"attributes\":{\"data\":{\"x\":{\"__ndarray__\":\"ZmZmZmZm9j9mZmZmZmb2P83MzMzMzPQ/AAAAAAAA+D9mZmZmZmb2PzMzMzMzM/s/ZmZmZmZm9j8AAAAAAAD4P2ZmZmZmZvY/AAAAAAAA+D8AAAAAAAD4P5qZmZmZmfk/ZmZmZmZm9j+amZmZmZnxPzMzMzMzM/M/AAAAAAAA+D/NzMzMzMz0P2ZmZmZmZvY/MzMzMzMz+z8AAAAAAAD4PzMzMzMzM/s/AAAAAAAA+D8AAAAAAADwPzMzMzMzM/s/ZmZmZmZm/j+amZmZmZn5P5qZmZmZmfk/AAAAAAAA+D9mZmZmZmb2P5qZmZmZmfk/mpmZmZmZ+T8AAAAAAAD4PwAAAAAAAPg/ZmZmZmZm9j8AAAAAAAD4PzMzMzMzM/M/zczMzMzM9D9mZmZmZmb2P83MzMzMzPQ/AAAAAAAA+D/NzMzMzMz0P83MzMzMzPQ/zczMzMzM9D+amZmZmZn5P2ZmZmZmZv4/ZmZmZmZm9j+amZmZmZn5P2ZmZmZmZvY/AAAAAAAA+D9mZmZmZmb2P83MzMzMzBJAAAAAAAAAEkCamZmZmZkTQAAAAAAAABBAZmZmZmZmEkAAAAAAAAASQM3MzMzMzBJAZmZmZmZmCkBmZmZmZmYSQDMzMzMzMw9AAAAAAAAADEDNzMzMzMwQQAAAAAAAABBAzczMzMzMEkDNzMzMzMwMQJqZmZmZmRFAAAAAAAAAEkBmZmZmZmYQQAAAAAAAABJAMzMzMzMzD0AzMzMzMzMTQAAAAAAAABBAmpmZmZmZE0DNzMzMzMwSQDMzMzMzMxFAmpmZmZmZEUAzMzMzMzMTQAAAAAAAABRAAAAAAAAAEkAAAAAAAAAMQGZmZmZmZg5AmpmZmZmZDUAzMzMzMzMPQGZmZmZmZhRAAAAAAAAAEkAAAAAAAAASQM3MzMzMzBJAmpmZmZmZEUBmZmZmZmYQQAAAAAAAABBAmpmZmZmZEUBmZmZmZmYSQAAAAAAAABBAZmZmZmZmCkDNzMzMzMwQQM3MzMzMzBBAzczMzMzMEEAzMzMzMzMRQAAAAAAAAAhAZmZmZmZmEEAAAAAAAAAYQGZmZmZmZhRAmpmZmZmZF0BmZmZmZmYWQDMzMzMzMxdAZmZmZmZmGkAAAAAAAAASQDMzMzMzMxlAMzMzMzMzF0BmZmZmZmYYQGZmZmZmZhRAMzMzMzMzFUAAAAAAAAAWQAAAAAAAABRAZmZmZmZmFEAzMzMzMzMVQAAAAAAAABZAzczMzMzMGkCamZmZmZkbQAAAAAAAABRAzczMzMzMFkCamZmZmZkTQM3MzMzMzBpAmpmZmZmZE0DNzMzMzMwWQAAAAAAAABhAMzMzMzMzE0CamZmZmZkTQGZmZmZmZhZAMzMzMzMzF0BmZmZmZmYYQJqZmZmZmRlAZmZmZmZmFkBmZmZmZmYUQGZmZmZmZhZAZmZmZmZmGEBmZmZmZmYWQAAAAAAAABZAMzMzMzMzE0CamZmZmZkVQGZmZmZmZhZAZmZmZmZmFEBmZmZmZmYUQJqZmZmZmRdAzczMzMzMFkDNzMzMzMwUQAAAAAAAABRAzczMzMzMFECamZmZmZkVQGZmZmZmZhRA\",\"dtype\":\"float64\",\"order\":\"little\",\"shape\":[150]},\"y\":{\"__ndarray__\":\"ZmZmZmZmFECamZmZmZkTQM3MzMzMzBJAZmZmZmZmEkAAAAAAAAAUQJqZmZmZmRVAZmZmZmZmEkAAAAAAAAAUQJqZmZmZmRFAmpmZmZmZE0CamZmZmZkVQDMzMzMzMxNAMzMzMzMzE0AzMzMzMzMRQDMzMzMzMxdAzczMzMzMFkCamZmZmZkVQGZmZmZmZhRAzczMzMzMFkBmZmZmZmYUQJqZmZmZmRVAZmZmZmZmFEBmZmZmZmYSQGZmZmZmZhRAMzMzMzMzE0AAAAAAAAAUQAAAAAAAABRAzczMzMzMFEDNzMzMzMwUQM3MzMzMzBJAMzMzMzMzE0CamZmZmZkVQM3MzMzMzBRAAAAAAAAAFkCamZmZmZkTQAAAAAAAABRAAAAAAAAAFkCamZmZmZkTQJqZmZmZmRFAZmZmZmZmFEAAAAAAAAAUQAAAAAAAABJAmpmZmZmZEUAAAAAAAAAUQGZmZmZmZhRAMzMzMzMzE0BmZmZmZmYUQGZmZmZmZhJAMzMzMzMzFUAAAAAAAAAUQAAAAAAAABxAmpmZmZmZGUCamZmZmZkbQAAAAAAAABZAAAAAAAAAGkDNzMzMzMwWQDMzMzMzMxlAmpmZmZmZE0BmZmZmZmYaQM3MzMzMzBRAAAAAAAAAFECamZmZmZkXQAAAAAAAABhAZmZmZmZmGEBmZmZmZmYWQM3MzMzMzBpAZmZmZmZmFkAzMzMzMzMXQM3MzMzMzBhAZmZmZmZmFkCamZmZmZkXQGZmZmZmZhhAMzMzMzMzGUBmZmZmZmYYQJqZmZmZmRlAZmZmZmZmGkAzMzMzMzMbQM3MzMzMzBpAAAAAAAAAGEDNzMzMzMwWQAAAAAAAABZAAAAAAAAAFkAzMzMzMzMXQAAAAAAAABhAmpmZmZmZFUAAAAAAAAAYQM3MzMzMzBpAMzMzMzMzGUBmZmZmZmYWQAAAAAAAABZAAAAAAAAAFkBmZmZmZmYYQDMzMzMzMxdAAAAAAAAAFEBmZmZmZmYWQM3MzMzMzBZAzczMzMzMFkDNzMzMzMwYQGZmZmZmZhRAzczMzMzMFkAzMzMzMzMZQDMzMzMzMxdAZmZmZmZmHEAzMzMzMzMZQAAAAAAAABpAZmZmZmZmHkCamZmZmZkTQDMzMzMzMx1AzczMzMzMGkDNzMzMzMwcQAAAAAAAABpAmpmZmZmZGUAzMzMzMzMbQM3MzMzMzBZAMzMzMzMzF0CamZmZmZkZQAAAAAAAABpAzczMzMzMHkDNzMzMzMweQAAAAAAAABhAmpmZmZmZG0BmZmZmZmYWQM3MzMzMzB5AMzMzMzMzGUDNzMzMzMwaQM3MzMzMzBxAzczMzMzMGEBmZmZmZmYYQJqZmZmZmRlAzczMzMzMHECamZmZmZkdQJqZmZmZmR9AmpmZmZmZGUAzMzMzMzMZQGZmZmZmZhhAzczMzMzMHkAzMzMzMzMZQJqZmZmZmRlAAAAAAAAAGECamZmZmZkbQM3MzMzMzBpAmpmZmZmZG0AzMzMzMzMXQDMzMzMzMxtAzczMzMzMGkDNzMzMzMwaQDMzMzMzMxlAAAAAAAAAGkDNzMzMzMwYQJqZmZmZmRdA\",\"dtype\":\"float64\",\"order\":\"little\",\"shape\":[150]}},\"selected\":{\"id\":\"2120\"},\"selection_policy\":{\"id\":\"2119\"}},\"id\":\"2024\",\"type\":\"ColumnDataSource\"},{\"attributes\":{},\"id\":\"2011\",\"type\":\"WheelZoomTool\"},{\"attributes\":{},\"id\":\"2117\",\"type\":\"BasicTickFormatter\"},{\"attributes\":{},\"id\":\"2010\",\"type\":\"PanTool\"},{\"attributes\":{\"overlay\":{\"id\":\"2016\"}},\"id\":\"2012\",\"type\":\"BoxZoomTool\"},{\"attributes\":{},\"id\":\"2013\",\"type\":\"SaveTool\"},{\"attributes\":{},\"id\":\"2119\",\"type\":\"UnionRenderers\"},{\"attributes\":{},\"id\":\"2014\",\"type\":\"ResetTool\"},{\"attributes\":{},\"id\":\"1996\",\"type\":\"DataRange1d\"},{\"attributes\":{},\"id\":\"2120\",\"type\":\"Selection\"},{\"attributes\":{\"bottom_units\":\"screen\",\"coordinates\":null,\"fill_alpha\":0.5,\"fill_color\":\"lightgrey\",\"group\":null,\"left_units\":\"screen\",\"level\":\"overlay\",\"line_alpha\":1.0,\"line_color\":\"black\",\"line_dash\":[4,4],\"line_width\":2,\"right_units\":\"screen\",\"syncable\":false,\"top_units\":\"screen\"},\"id\":\"2016\",\"type\":\"BoxAnnotation\"},{\"attributes\":{},\"id\":\"1994\",\"type\":\"DataRange1d\"},{\"attributes\":{\"coordinates\":null,\"group\":null},\"id\":\"2111\",\"type\":\"Title\"},{\"attributes\":{\"fill_alpha\":{\"value\":0.1},\"fill_color\":{\"value\":\"gold\"},\"hatch_alpha\":{\"value\":0.1},\"line_alpha\":{\"value\":0.1},\"line_color\":{\"value\":\"#1f77b4\"},\"size\":{\"value\":10},\"x\":{\"field\":\"x\"},\"y\":{\"field\":\"y\"}},\"id\":\"2026\",\"type\":\"Circle\"},{\"attributes\":{\"source\":{\"id\":\"2024\"}},\"id\":\"2029\",\"type\":\"CDSView\"},{\"attributes\":{\"coordinates\":null,\"data_source\":{\"id\":\"2024\"},\"glyph\":{\"id\":\"2025\"},\"group\":null,\"hover_glyph\":null,\"muted_glyph\":{\"id\":\"2027\"},\"nonselection_glyph\":{\"id\":\"2026\"},\"view\":{\"id\":\"2029\"}},\"id\":\"2028\",\"type\":\"GlyphRenderer\"},{\"attributes\":{\"coordinates\":null,\"formatter\":{\"id\":\"2117\"},\"group\":null,\"major_label_policy\":{\"id\":\"2118\"},\"ticker\":{\"id\":\"2003\"}},\"id\":\"2002\",\"type\":\"LinearAxis\"},{\"attributes\":{},\"id\":\"2007\",\"type\":\"BasicTicker\"},{\"attributes\":{},\"id\":\"1998\",\"type\":\"LinearScale\"},{\"attributes\":{\"fill_color\":{\"value\":\"gold\"},\"line_color\":{\"value\":\"#1f77b4\"},\"size\":{\"value\":10},\"x\":{\"field\":\"x\"},\"y\":{\"field\":\"y\"}},\"id\":\"2025\",\"type\":\"Circle\"},{\"attributes\":{},\"id\":\"2000\",\"type\":\"LinearScale\"},{\"attributes\":{\"tools\":[{\"id\":\"2010\"},{\"id\":\"2011\"},{\"id\":\"2012\"},{\"id\":\"2013\"},{\"id\":\"2014\"},{\"id\":\"2015\"}]},\"id\":\"2017\",\"type\":\"Toolbar\"},{\"attributes\":{\"coordinates\":null,\"formatter\":{\"id\":\"2114\"},\"group\":null,\"major_label_policy\":{\"id\":\"2115\"},\"ticker\":{\"id\":\"2007\"}},\"id\":\"2006\",\"type\":\"LinearAxis\"},{\"attributes\":{\"axis\":{\"id\":\"2002\"},\"coordinates\":null,\"group\":null,\"ticker\":null},\"id\":\"2005\",\"type\":\"Grid\"},{\"attributes\":{},\"id\":\"2118\",\"type\":\"AllLabels\"},{\"attributes\":{},\"id\":\"2114\",\"type\":\"BasicTickFormatter\"},{\"attributes\":{},\"id\":\"2003\",\"type\":\"BasicTicker\"},{\"attributes\":{\"fill_alpha\":{\"value\":0.2},\"fill_color\":{\"value\":\"gold\"},\"hatch_alpha\":{\"value\":0.2},\"line_alpha\":{\"value\":0.2},\"line_color\":{\"value\":\"#1f77b4\"},\"size\":{\"value\":10},\"x\":{\"field\":\"x\"},\"y\":{\"field\":\"y\"}},\"id\":\"2027\",\"type\":\"Circle\"},{\"attributes\":{},\"id\":\"2115\",\"type\":\"AllLabels\"}],\"root_ids\":[\"1993\"]},\"title\":\"Bokeh Application\",\"version\":\"2.4.1\"}};\n",
       "  const render_items = [{\"docid\":\"900f5cee-0f26-44f0-b26d-14a1fca03c70\",\"root_ids\":[\"1993\"],\"roots\":{\"1993\":\"83aed4cf-b27b-4cc3-9643-5b6b115b7cd2\"}}];\n",
       "  root.Bokeh.embed.embed_items_notebook(docs_json, render_items);\n",
       "\n",
       "  }\n",
       "  if (root.Bokeh !== undefined) {\n",
       "    embed_document(root);\n",
       "  } else {\n",
       "    let attempts = 0;\n",
       "    const timer = setInterval(function(root) {\n",
       "      if (root.Bokeh !== undefined) {\n",
       "        clearInterval(timer);\n",
       "        embed_document(root);\n",
       "      } else {\n",
       "        attempts++;\n",
       "        if (attempts > 100) {\n",
       "          clearInterval(timer);\n",
       "          console.log(\"Bokeh: ERROR: Unable to run BokehJS code because BokehJS library is missing\");\n",
       "        }\n",
       "      }\n",
       "    }, 10, root)\n",
       "  }\n",
       "})(window);"
      ],
      "application/vnd.bokehjs_exec.v0+json": ""
     },
     "metadata": {
      "application/vnd.bokehjs_exec.v0+json": {
       "id": "1993"
      }
     },
     "output_type": "display_data"
    }
   ],
   "source": [
    "#Pandas\n",
    "from bokeh.io import output_file, show\n",
    "from bokeh.plotting import figure\n",
    "# Flowers is a Pandas DataFrame\n",
    "from bokeh.sampledata.iris import flowers\n",
    "plot = figure()\n",
    "plot.circle(flowers['petal_length'],flowers['sepal_length'],size=10,fill_color = 'gold')\n",
    "\n",
    "show(plot)"
   ]
  },
  {
   "cell_type": "markdown",
   "id": "9be6d1c0",
   "metadata": {},
   "source": [
    "Interactive options\n",
    "\n",
    "One example of the numerous interactive tools in Bokeh is the hover style"
   ]
  },
  {
   "cell_type": "code",
   "execution_count": 11,
   "id": "5717e4bb",
   "metadata": {},
   "outputs": [
    {
     "data": {
      "text/html": [
       "\n",
       "\n",
       "\n",
       "\n",
       "\n",
       "\n",
       "  <div class=\"bk-root\" id=\"0b08b327-9a22-4476-9c7d-5184dcd31c18\" data-root-id=\"2178\"></div>\n"
      ]
     },
     "metadata": {},
     "output_type": "display_data"
    },
    {
     "data": {
      "application/javascript": [
       "(function(root) {\n",
       "  function embed_document(root) {\n",
       "    \n",
       "  const docs_json = {\"0ea729ef-537f-4780-ad88-81d92a8ba3a7\":{\"defs\":[],\"roots\":{\"references\":[{\"attributes\":{\"below\":[{\"id\":\"2187\"}],\"center\":[{\"id\":\"2190\"},{\"id\":\"2194\"}],\"left\":[{\"id\":\"2191\"}],\"renderers\":[{\"id\":\"2204\"}],\"title\":{\"id\":\"2298\"},\"toolbar\":{\"id\":\"2196\"},\"x_range\":{\"id\":\"2179\"},\"x_scale\":{\"id\":\"2183\"},\"y_range\":{\"id\":\"2181\"},\"y_scale\":{\"id\":\"2185\"}},\"id\":\"2178\",\"subtype\":\"Figure\",\"type\":\"Plot\"},{\"attributes\":{\"axis\":{\"id\":\"2187\"},\"coordinates\":null,\"group\":null,\"ticker\":null},\"id\":\"2190\",\"type\":\"Grid\"},{\"attributes\":{},\"id\":\"2306\",\"type\":\"UnionRenderers\"},{\"attributes\":{},\"id\":\"2185\",\"type\":\"LinearScale\"},{\"attributes\":{\"fill_color\":{\"value\":\"gold\"},\"hatch_color\":{\"value\":\"gold\"},\"line_color\":{\"value\":\"gold\"},\"size\":{\"value\":15},\"x\":{\"field\":\"x\"},\"y\":{\"field\":\"y\"}},\"id\":\"2202\",\"type\":\"Circle\"},{\"attributes\":{\"fill_color\":{\"value\":\"#1f77b4\"},\"line_color\":{\"value\":\"#1f77b4\"},\"size\":{\"value\":15},\"x\":{\"field\":\"x\"},\"y\":{\"field\":\"y\"}},\"id\":\"2200\",\"type\":\"Circle\"},{\"attributes\":{\"callback\":null,\"mode\":\"hline\",\"tooltips\":null},\"id\":\"2177\",\"type\":\"HoverTool\"},{\"attributes\":{},\"id\":\"2181\",\"type\":\"DataRange1d\"},{\"attributes\":{},\"id\":\"2301\",\"type\":\"BasicTickFormatter\"},{\"attributes\":{\"coordinates\":null,\"group\":null},\"id\":\"2298\",\"type\":\"Title\"},{\"attributes\":{},\"id\":\"2302\",\"type\":\"AllLabels\"},{\"attributes\":{},\"id\":\"2183\",\"type\":\"LinearScale\"},{\"attributes\":{\"source\":{\"id\":\"2199\"}},\"id\":\"2205\",\"type\":\"CDSView\"},{\"attributes\":{},\"id\":\"2195\",\"type\":\"CrosshairTool\"},{\"attributes\":{},\"id\":\"2179\",\"type\":\"DataRange1d\"},{\"attributes\":{\"coordinates\":null,\"data_source\":{\"id\":\"2199\"},\"glyph\":{\"id\":\"2200\"},\"group\":null,\"hover_glyph\":{\"id\":\"2202\"},\"muted_glyph\":{\"id\":\"2203\"},\"nonselection_glyph\":{\"id\":\"2201\"},\"view\":{\"id\":\"2205\"}},\"id\":\"2204\",\"type\":\"GlyphRenderer\"},{\"attributes\":{},\"id\":\"2304\",\"type\":\"BasicTickFormatter\"},{\"attributes\":{\"data\":{\"x\":{\"__ndarray__\":\"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\",\"dtype\":\"float64\",\"order\":\"little\",\"shape\":[1000]},\"y\":{\"__ndarray__\":\"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\",\"dtype\":\"float64\",\"order\":\"little\",\"shape\":[1000]}},\"selected\":{\"id\":\"2307\"},\"selection_policy\":{\"id\":\"2306\"}},\"id\":\"2199\",\"type\":\"ColumnDataSource\"},{\"attributes\":{\"coordinates\":null,\"formatter\":{\"id\":\"2304\"},\"group\":null,\"major_label_policy\":{\"id\":\"2305\"},\"ticker\":{\"id\":\"2188\"}},\"id\":\"2187\",\"type\":\"LinearAxis\"},{\"attributes\":{},\"id\":\"2192\",\"type\":\"BasicTicker\"},{\"attributes\":{},\"id\":\"2305\",\"type\":\"AllLabels\"},{\"attributes\":{},\"id\":\"2188\",\"type\":\"BasicTicker\"},{\"attributes\":{\"coordinates\":null,\"formatter\":{\"id\":\"2301\"},\"group\":null,\"major_label_policy\":{\"id\":\"2302\"},\"ticker\":{\"id\":\"2192\"}},\"id\":\"2191\",\"type\":\"LinearAxis\"},{\"attributes\":{\"tools\":[{\"id\":\"2177\"},{\"id\":\"2195\"}]},\"id\":\"2196\",\"type\":\"Toolbar\"},{\"attributes\":{},\"id\":\"2307\",\"type\":\"Selection\"},{\"attributes\":{\"axis\":{\"id\":\"2191\"},\"coordinates\":null,\"dimension\":1,\"group\":null,\"ticker\":null},\"id\":\"2194\",\"type\":\"Grid\"},{\"attributes\":{\"fill_alpha\":{\"value\":0.2},\"fill_color\":{\"value\":\"#1f77b4\"},\"hatch_alpha\":{\"value\":0.2},\"line_alpha\":{\"value\":0.2},\"line_color\":{\"value\":\"#1f77b4\"},\"size\":{\"value\":15},\"x\":{\"field\":\"x\"},\"y\":{\"field\":\"y\"}},\"id\":\"2203\",\"type\":\"Circle\"},{\"attributes\":{\"fill_alpha\":{\"value\":0.1},\"fill_color\":{\"value\":\"#1f77b4\"},\"hatch_alpha\":{\"value\":0.1},\"line_alpha\":{\"value\":0.1},\"line_color\":{\"value\":\"#1f77b4\"},\"size\":{\"value\":15},\"x\":{\"field\":\"x\"},\"y\":{\"field\":\"y\"}},\"id\":\"2201\",\"type\":\"Circle\"}],\"root_ids\":[\"2178\"]},\"title\":\"Bokeh Application\",\"version\":\"2.4.1\"}};\n",
       "  const render_items = [{\"docid\":\"0ea729ef-537f-4780-ad88-81d92a8ba3a7\",\"root_ids\":[\"2178\"],\"roots\":{\"2178\":\"0b08b327-9a22-4476-9c7d-5184dcd31c18\"}}];\n",
       "  root.Bokeh.embed.embed_items_notebook(docs_json, render_items);\n",
       "\n",
       "  }\n",
       "  if (root.Bokeh !== undefined) {\n",
       "    embed_document(root);\n",
       "  } else {\n",
       "    let attempts = 0;\n",
       "    const timer = setInterval(function(root) {\n",
       "      if (root.Bokeh !== undefined) {\n",
       "        clearInterval(timer);\n",
       "        embed_document(root);\n",
       "      } else {\n",
       "        attempts++;\n",
       "        if (attempts > 100) {\n",
       "          clearInterval(timer);\n",
       "          console.log(\"Bokeh: ERROR: Unable to run BokehJS code because BokehJS library is missing\");\n",
       "        }\n",
       "      }\n",
       "    }, 10, root)\n",
       "  }\n",
       "})(window);"
      ],
      "application/vnd.bokehjs_exec.v0+json": ""
     },
     "metadata": {
      "application/vnd.bokehjs_exec.v0+json": {
       "id": "2178"
      }
     },
     "output_type": "display_data"
    }
   ],
   "source": [
    "#Hover appearance\n",
    "from bokeh.models import HoverTool\n",
    "hover = HoverTool(tooltips=None, mode='hline')\n",
    "plot = figure(tools=[hover, 'crosshair'])\n",
    "# x and y are lists of random points\n",
    "plot.circle(x, y, size=15, hover_color='gold')\n",
    "show(plot)"
   ]
  },
  {
   "cell_type": "code",
   "execution_count": null,
   "id": "33ddcfa7",
   "metadata": {},
   "outputs": [],
   "source": []
  }
 ],
 "metadata": {
  "kernelspec": {
   "display_name": "Python 3 (ipykernel)",
   "language": "python",
   "name": "python3"
  },
  "language_info": {
   "codemirror_mode": {
    "name": "ipython",
    "version": 3
   },
   "file_extension": ".py",
   "mimetype": "text/x-python",
   "name": "python",
   "nbconvert_exporter": "python",
   "pygments_lexer": "ipython3",
   "version": "3.9.7"
  }
 },
 "nbformat": 4,
 "nbformat_minor": 5
}
